{
 "cells": [
  {
   "cell_type": "markdown",
   "metadata": {
    "id": "eWhfHTUnzRzu"
   },
   "source": [
    "# Методы"
   ]
  },
  {
   "cell_type": "markdown",
   "metadata": {
    "id": "6xps6kSViogq",
    "tags": []
   },
   "source": [
    "## Keys"
   ]
  },
  {
   "cell_type": "code",
   "execution_count": 1,
   "metadata": {},
   "outputs": [],
   "source": [
    "#1 кошелек, откуда переливаем\n",
    "\n",
    "b1_API_KEY='KyNhZ1MX44WQvpITo4Gymln2eZa2BtAeSYidN7LaPe873GcwBLgWYTBX5uct8pCA';  N=45; percent=60\n",
    "b1_API_SECRET='rAWNHeesElERd8CLyzSal8poP9sDCCii5yZdsREEdhpkDXcHIlIYLakcCACZEmo3' #30.01.23\n",
    "\n",
    "\n",
    "# кошелек, куда переливаем\n",
    "    # Нияз личный\n",
    "b2_API_KEY='uerd5dKR9Bj0SiTxSrFuElIEvUdga9tjH0QayP9TLnEzjMVDKYHBbDmwqsOCn4Ze'  # 31.01.23\n",
    "b2_API_SECRET='lRzQTC0FYoHZxD00tDvaR76UkQr4QQyVkL2fhn66GSpbyBgEZ2GOjI7hJipJ5wCA'\n",
    "\n",
    "# загрузка функций\n",
    "%run fn.ipynb"
   ]
  },
  {
   "cell_type": "code",
   "execution_count": 5,
   "metadata": {
    "colab": {
     "base_uri": "https://localhost:8080/"
    },
    "executionInfo": {
     "elapsed": 375,
     "status": "ok",
     "timestamp": 1669822340180,
     "user": {
      "displayName": "Александр Литвинов",
      "userId": "13946514427652999048"
     },
     "user_tz": -180
    },
    "id": "5vFSPcPhXmXn",
    "outputId": "257ddbc4-34a4-4c2a-eb37-193523b294da"
   },
   "outputs": [
    {
     "name": "stdout",
     "output_type": "stream",
     "text": [
      "base_quote: QKCBUSD\n",
      "base_usd: QKCBUSD True\n",
      "usd_quote: BUSDBUSD False\n"
     ]
    }
   ],
   "source": [
    "#3 подготовка параметров для торговли  \n",
    "min_spread_in_percent = 0.6\n",
    "\n",
    "b = 'QKC'; # 2/10\n",
    "q = 'BUSD'; u = 'BUSD'\n",
    "\n",
    "\n",
    "\n",
    "#------------------\n",
    "Work_usd  = 90 # количество USD для работы\n",
    "usd_min   = 25\n",
    "kb = 0.98\n",
    "#------------------\n",
    "find_pairs(b, q, u)\n",
    "coin_bunch = 2\n",
    "if q == u : busd_busd = True\n",
    "else      : busd_busd = False\n",
    "o1={}; o2={}\n",
    "client_report = ''\n",
    "isWriteToFile = False"
   ]
  },
  {
   "cell_type": "code",
   "execution_count": null,
   "metadata": {
    "colab": {
     "base_uri": "https://localhost:8080/",
     "height": 1000
    },
    "executionInfo": {
     "elapsed": 271821,
     "status": "error",
     "timestamp": 1669822620297,
     "user": {
      "displayName": "Александр Литвинов",
      "userId": "13946514427652999048"
     },
     "user_tz": -180
    },
    "id": "8M59VUfVsoyI",
    "jupyter": {
     "source_hidden": true
    },
    "outputId": "f1cfd617-0489-45bd-fd53-7614291ff73e",
    "scrolled": true,
    "tags": []
   },
   "outputs": [
    {
     "name": "stdout",
     "output_type": "stream",
     "text": [
      "b1 b:307.501(3) q:142.04(142)   bq:145.16  B:0.078   <>:145.16\n",
      "b2 b:16787.0(171) q:2864.99(2865)   bq:3035.76  B:0.199   <>:3035.76\n",
      "New W_usd: 130.65\n",
      "b1 b:307.501(3) q:142.04(142)   bq:145.16  B:0.078   <>:0.00\n",
      "b2 b:16787.0(171) q:2864.99(2865)   bq:3035.76  B:0.199   <>:0.00\n",
      "b1 BNB ok\n",
      "b2 BNB ok\n",
      "b1 b:307.501(3) q:142.04(142)   bq:145.16  B:0.078   <>:0.00\n",
      "b2 b:16787.0(171) q:2864.99(2865)   bq:3035.76  B:0.199   <>:0.00\n",
      "b2 SELL  QKCBUSD price_up: 0.010197 quantity: 13669\n",
      "b2 setOrder QKCBUSD origQty:13669 exQty:0\n",
      "b1 setOrder QKCBUSD origQty:13669 exQty:13669\n",
      "b1 Откуп BUY = FILLED \n",
      "sell_buy() True \n",
      "\n",
      "b2 oo0 закрыл остатки QKCBUSD origQty:13669 exQty:12685\n",
      "b1 b:13962.832(142) q:2.66(3)   bq:144.72  B:0.078   <>:-0.44\n",
      "b2 b:4102.0(42) q:2994.34(2994)   bq:3036.07  B:0.199   <>:0.31\n",
      "\n",
      "--------------------------------------------------------------------------------\n",
      "шаг 1\n",
      "\n",
      "------------BUY - SELL\n",
      "b1 b:13962.832(142) q:2.66(3)   bq:144.75  B:0.078   <>:0.03\n",
      "b2 b:4102.0(42) q:2994.34(2994)   bq:3036.08  B:0.199   <>:0.01\n",
      "QKCBUSD . спрэд: 0.25   ping: 78   bid: 0.010175   ask: 0.0102\n",
      "QKCBUSD . спрэд: 0.28   ping: 70   bid: 0.010175   ask: 0.010204\n",
      "QKCBUSD . спрэд: 0.39   ping: 61   bid: 0.010161   ask: 0.010201\n",
      "QKCBUSD . спрэд: 0.25   ping: 78   bid: 0.010177   ask: 0.010202\n",
      "QKCBUSD . спрэд: 0.33   ping: 47   bid: 0.010177   ask: 0.010211\n",
      "QKCBUSD . спрэд: 0.37   ping: 49   bid: 0.010167   ask: 0.010205\n",
      "QKCBUSD . спрэд: 0.39   ping: 33   bid: 0.010165   ask: 0.010205\n",
      "QKCBUSD . спрэд: 0.28   ping: 46   bid: 0.01018   ask: 0.010209\n",
      "QKCBUSD . спрэд: 0.33   ping: 65   bid: 0.010176   ask: 0.01021\n",
      "QKCBUSD . спрэд: 0.39   ping: 34   bid: 0.010165   ask: 0.010205\n",
      "QKCBUSD . спрэд: 0.36   ping: 64   bid: 0.010168   ask: 0.010205\n",
      "QKCBUSD . спрэд: 0.3   ping: 29   bid: 0.010178   ask: 0.010209\n",
      "QKCBUSD . спрэд: 0.31   ping: 50   bid: 0.010178   ask: 0.01021\n",
      "QKCBUSD . спрэд: 0.24   ping: 45   bid: 0.010187   ask: 0.010211\n",
      "QKCBUSD . спрэд: 0.15   ping: 50   bid: 0.010187   ask: 0.010202\n",
      "QKCBUSD . спрэд: 0.24   ping: 39   bid: 0.010187   ask: 0.010211\n",
      "QKCBUSD . спрэд: 0.41   ping: 43   bid: 0.010162   ask: 0.010204\n",
      "QKCBUSD . спрэд: 0.35   ping: 52   bid: 0.010173   ask: 0.010209\n",
      "QKCBUSD . спрэд: 0.34   ping: 47   bid: 0.010174   ask: 0.010209\n",
      "QKCBUSD . спрэд: 0.35   ping: 49   bid: 0.010174   ask: 0.01021\n",
      "QKCBUSD . спрэд: 0.31   ping: 47   bid: 0.010178   ask: 0.01021\n",
      "QKCBUSD . спрэд: 0.33   ping: 37   bid: 0.010181   ask: 0.010215\n",
      "QKCBUSD . спрэд: 0.29   ping: 37   bid: 0.010185   ask: 0.010215\n",
      "QKCBUSD . спрэд: 0.31   ping: 64   bid: 0.010185   ask: 0.010217\n",
      "QKCBUSD . спрэд: 0.16   ping: 56   bid: 0.010202   ask: 0.010218\n",
      "QKCBUSD . спрэд: 0.15   ping: 48   bid: 0.010203   ask: 0.010218\n"
     ]
    }
   ],
   "source": [
    "#4 START\n",
    "\n",
    "isWriteToFile = True\n",
    "if isWriteToFile : f = createFile('rep\\Н40')\n",
    "\n",
    "\n",
    "BS_async = True\n",
    "SB_async = True\n",
    "time_b2_b1 = 0.5\n",
    "\n",
    "time_wait_spread = 3 #sek\n",
    "eat_vol = 0.06\n",
    "\n",
    "\n",
    "cancel_orders(bot2)\n",
    "get_new_Work_usd()\n",
    "busd_to_bnb()\n",
    "\n",
    "#after_sell()\n",
    "\n",
    "# Если начинать с продажи\n",
    "await _try_sell_buy()  if SB_async else try_sell_buy()\n",
    "\n",
    "\n",
    "#global client_report\n",
    "step = 1\n",
    "while 1 :\n",
    "  print('\\n--------------------------------------------------------------------------------')\n",
    "  print(f'шаг {step}')\n",
    "  client_report = client_report + f'шаг {step}' + '\\n'\n",
    "  print('\\n------------BUY - SELL')\n",
    "\n",
    "  #is_async if   await try_buy_sell() else try_buy_sell()\n",
    "  await _try_buy_sell()  if BS_async else try_buy_sell()\n",
    "\n",
    "  if step % 2 == 1 :\n",
    "    print('\\n------------BUSD_TO_BNB')\n",
    "    busd_to_bnb()  #!!!!!!!!!!!!!!!!!!!!!!!!!!!!!\n",
    "  if step % 8 == 1 :\n",
    "    print('\\n------------WORK_USD')\n",
    "    get_new_Work_usd()\n",
    "  print('\\n------------SELL - BUY')\n",
    "\n",
    "    \n",
    "  await _try_sell_buy()  if SB_async else try_sell_buy()\n",
    "\n",
    "  t = random.random() *35 + 5\n",
    "  print('sleep: ', t)\n",
    "  time.sleep( t )\n",
    "  step = step + 1"
   ]
  },
  {
   "cell_type": "markdown",
   "metadata": {},
   "source": [
    "# Балансы"
   ]
  },
  {
   "cell_type": "code",
   "execution_count": 2,
   "metadata": {
    "colab": {
     "base_uri": "https://localhost:8080/",
     "height": 324
    },
    "executionInfo": {
     "elapsed": 3001,
     "status": "error",
     "timestamp": 1669818196612,
     "user": {
      "displayName": "Александр Литвинов",
      "userId": "13946514427652999048"
     },
     "user_tz": -180
    },
    "id": "VDpRAXSJhta_",
    "jupyter": {
     "source_hidden": true
    },
    "outputId": "6354fcfd-1892-46b9-f626-fe881436c787",
    "tags": []
   },
   "outputs": [
    {
     "ename": "Exception",
     "evalue": "{\"code\":-2015,\"msg\":\"Invalid API-key, IP, or permissions for action.\"}",
     "output_type": "error",
     "traceback": [
      "\u001b[1;31m---------------------------------------------------------------------------\u001b[0m",
      "\u001b[1;31mException\u001b[0m                                 Traceback (most recent call last)",
      "\u001b[1;32m~\\AppData\\Local\\Temp\\2\\ipykernel_6480\\1531185641.py\u001b[0m in \u001b[0;36m<module>\u001b[1;34m\u001b[0m\n\u001b[0;32m      1\u001b[0m \u001b[1;31m#Балансы\u001b[0m\u001b[1;33m\u001b[0m\u001b[1;33m\u001b[0m\u001b[0m\n\u001b[0;32m      2\u001b[0m \u001b[1;33m\u001b[0m\u001b[0m\n\u001b[1;32m----> 3\u001b[1;33m \u001b[0mget_new_Work_usd\u001b[0m\u001b[1;33m(\u001b[0m\u001b[1;33m)\u001b[0m\u001b[1;33m\u001b[0m\u001b[1;33m\u001b[0m\u001b[0m\n\u001b[0m\u001b[0;32m      4\u001b[0m \u001b[1;33m\u001b[0m\u001b[0m\n\u001b[0;32m      5\u001b[0m \u001b[1;33m\u001b[0m\u001b[0m\n",
      "\u001b[1;32m~\\AppData\\Local\\Temp\\2\\ipykernel_6480\\3981247343.py\u001b[0m in \u001b[0;36mget_new_Work_usd\u001b[1;34m()\u001b[0m\n\u001b[0;32m      1\u001b[0m \u001b[1;32mdef\u001b[0m \u001b[0mget_new_Work_usd\u001b[0m\u001b[1;33m(\u001b[0m\u001b[1;33m)\u001b[0m \u001b[1;33m:\u001b[0m\u001b[1;33m\u001b[0m\u001b[1;33m\u001b[0m\u001b[0m\n\u001b[0;32m      2\u001b[0m   \u001b[1;32mglobal\u001b[0m \u001b[0mbal\u001b[0m\u001b[1;33m\u001b[0m\u001b[1;33m\u001b[0m\u001b[0m\n\u001b[1;32m----> 3\u001b[1;33m   \u001b[0mbal\u001b[0m \u001b[1;33m=\u001b[0m \u001b[0mget_balances\u001b[0m\u001b[1;33m(\u001b[0m\u001b[1;33m)\u001b[0m\u001b[1;33m\u001b[0m\u001b[1;33m\u001b[0m\u001b[0m\n\u001b[0m\u001b[0;32m      4\u001b[0m \u001b[1;33m\u001b[0m\u001b[0m\n\u001b[0;32m      5\u001b[0m   \u001b[1;32mglobal\u001b[0m \u001b[0mWork_usd\u001b[0m\u001b[1;33m\u001b[0m\u001b[1;33m\u001b[0m\u001b[0m\n",
      "\u001b[1;32m~\\AppData\\Local\\Temp\\2\\ipykernel_6480\\1611301423.py\u001b[0m in \u001b[0;36mget_balances\u001b[1;34m()\u001b[0m\n\u001b[0;32m      6\u001b[0m   \u001b[0mbal\u001b[0m \u001b[1;33m=\u001b[0m \u001b[1;33m{\u001b[0m \u001b[1;34m'bot1'\u001b[0m\u001b[1;33m:\u001b[0m\u001b[1;33m{\u001b[0m\u001b[1;33m}\u001b[0m\u001b[1;33m,\u001b[0m \u001b[1;34m'bot2'\u001b[0m \u001b[1;33m:\u001b[0m \u001b[1;33m{\u001b[0m\u001b[1;33m}\u001b[0m \u001b[1;33m}\u001b[0m\u001b[1;33m\u001b[0m\u001b[1;33m\u001b[0m\u001b[0m\n\u001b[0;32m      7\u001b[0m \u001b[1;33m\u001b[0m\u001b[0m\n\u001b[1;32m----> 8\u001b[1;33m   \u001b[0macc\u001b[0m \u001b[1;33m=\u001b[0m \u001b[0mbot1\u001b[0m\u001b[1;33m.\u001b[0m\u001b[0maccount\u001b[0m\u001b[1;33m(\u001b[0m\u001b[1;33m)\u001b[0m\u001b[1;33m[\u001b[0m\u001b[1;34m'balances'\u001b[0m\u001b[1;33m]\u001b[0m\u001b[1;33m\u001b[0m\u001b[1;33m\u001b[0m\u001b[0m\n\u001b[0m\u001b[0;32m      9\u001b[0m   \u001b[1;31m#print('bot1')\u001b[0m\u001b[1;33m\u001b[0m\u001b[1;33m\u001b[0m\u001b[0m\n\u001b[0;32m     10\u001b[0m   \u001b[1;32mfor\u001b[0m \u001b[0mi\u001b[0m \u001b[1;32min\u001b[0m \u001b[0mrange\u001b[0m\u001b[1;33m(\u001b[0m \u001b[0mlen\u001b[0m\u001b[1;33m(\u001b[0m\u001b[0macc\u001b[0m\u001b[1;33m)\u001b[0m \u001b[1;33m)\u001b[0m\u001b[1;33m:\u001b[0m\u001b[1;33m\u001b[0m\u001b[1;33m\u001b[0m\u001b[0m\n",
      "\u001b[1;32m~\\AppData\\Local\\Temp\\2\\ipykernel_6480\\1486528545.py\u001b[0m in \u001b[0;36mwrapper\u001b[1;34m(*args, **kwargs)\u001b[0m\n\u001b[0;32m     83\u001b[0m         \u001b[1;32mdef\u001b[0m \u001b[0mwrapper\u001b[0m\u001b[1;33m(\u001b[0m\u001b[1;33m*\u001b[0m\u001b[0margs\u001b[0m\u001b[1;33m,\u001b[0m \u001b[1;33m**\u001b[0m\u001b[0mkwargs\u001b[0m\u001b[1;33m)\u001b[0m\u001b[1;33m:\u001b[0m\u001b[1;33m\u001b[0m\u001b[1;33m\u001b[0m\u001b[0m\n\u001b[0;32m     84\u001b[0m             \u001b[0mkwargs\u001b[0m\u001b[1;33m.\u001b[0m\u001b[0mupdate\u001b[0m\u001b[1;33m(\u001b[0m\u001b[0mcommand\u001b[0m\u001b[1;33m=\u001b[0m\u001b[0mname\u001b[0m\u001b[1;33m)\u001b[0m\u001b[1;33m\u001b[0m\u001b[1;33m\u001b[0m\u001b[0m\n\u001b[1;32m---> 85\u001b[1;33m             \u001b[1;32mreturn\u001b[0m \u001b[0mself\u001b[0m\u001b[1;33m.\u001b[0m\u001b[0mcall_api\u001b[0m\u001b[1;33m(\u001b[0m\u001b[1;33m**\u001b[0m\u001b[0mkwargs\u001b[0m\u001b[1;33m)\u001b[0m\u001b[1;33m\u001b[0m\u001b[1;33m\u001b[0m\u001b[0m\n\u001b[0m\u001b[0;32m     86\u001b[0m         \u001b[1;32mreturn\u001b[0m \u001b[0mwrapper\u001b[0m\u001b[1;33m\u001b[0m\u001b[1;33m\u001b[0m\u001b[0m\n\u001b[0;32m     87\u001b[0m \u001b[1;33m\u001b[0m\u001b[0m\n",
      "\u001b[1;32m~\\AppData\\Local\\Temp\\2\\ipykernel_6480\\1486528545.py\u001b[0m in \u001b[0;36mcall_api\u001b[1;34m(self, **kwargs)\u001b[0m\n\u001b[0;32m    120\u001b[0m \u001b[1;33m\u001b[0m\u001b[0m\n\u001b[0;32m    121\u001b[0m         \u001b[1;32mif\u001b[0m \u001b[1;34m'code'\u001b[0m \u001b[1;32min\u001b[0m \u001b[0mresponse\u001b[0m\u001b[1;33m.\u001b[0m\u001b[0mtext\u001b[0m\u001b[1;33m:\u001b[0m\u001b[1;33m\u001b[0m\u001b[1;33m\u001b[0m\u001b[0m\n\u001b[1;32m--> 122\u001b[1;33m             \u001b[1;32mraise\u001b[0m \u001b[0mException\u001b[0m\u001b[1;33m(\u001b[0m\u001b[0mresponse\u001b[0m\u001b[1;33m.\u001b[0m\u001b[0mtext\u001b[0m\u001b[1;33m)\u001b[0m\u001b[1;33m\u001b[0m\u001b[1;33m\u001b[0m\u001b[0m\n\u001b[0m\u001b[0;32m    123\u001b[0m \u001b[1;33m\u001b[0m\u001b[0m\n\u001b[0;32m    124\u001b[0m         \u001b[1;32mreturn\u001b[0m \u001b[0mresponse\u001b[0m\u001b[1;33m.\u001b[0m\u001b[0mjson\u001b[0m\u001b[1;33m(\u001b[0m\u001b[1;33m)\u001b[0m\u001b[1;33m\u001b[0m\u001b[1;33m\u001b[0m\u001b[0m\n",
      "\u001b[1;31mException\u001b[0m: {\"code\":-2015,\"msg\":\"Invalid API-key, IP, or permissions for action.\"}"
     ]
    }
   ],
   "source": [
    "#Балансы\n",
    "\n",
    "get_new_Work_usd()\n",
    "\n",
    "\n",
    "#\n",
    "if bal['bot1']['quote_in_usd'] > Work_usd and bal['bot2']['base_in_usd'] > Work_usd :\n",
    "  print('need SellBuy')\n",
    "\n",
    "if bal['bot1']['base_in_usd'] > Work_usd and bal['bot2']['quote_in_usd'] > Work_usd :\n",
    "  print('need BuySell')\n",
    "\n",
    "if bal['bot1']['base_in_usd'] > Work_usd and bal['bot2']['base_in_usd'] > Work_usd :\n",
    "  print('need sell base')\n",
    "\n",
    "if bal['bot1']['quote_in_usd'] > Work_usd and bal['bot2']['quote_in_usd'] > Work_usd :\n",
    "  print('need buy base')\n",
    "\n",
    "  "
   ]
  },
  {
   "cell_type": "markdown",
   "metadata": {
    "id": "8ary4IMwFyEc"
   },
   "source": [
    "## Начальная закупка"
   ]
  },
  {
   "cell_type": "code",
   "execution_count": 5,
   "metadata": {
    "colab": {
     "base_uri": "https://localhost:8080/"
    },
    "executionInfo": {
     "elapsed": 290,
     "status": "ok",
     "timestamp": 1668767707278,
     "user": {
      "displayName": "Александр Литвинов",
      "userId": "13946514427652999048"
     },
     "user_tz": -180
    },
    "id": "sbJiOxqZId7P",
    "jupyter": {
     "source_hidden": true
    },
    "outputId": "ea3b7f23-d2a2-4dc2-aa7c-484d08238ef4",
    "tags": []
   },
   "outputs": [
    {
     "name": "stdout",
     "output_type": "stream",
     "text": [
      "b1  usd_to_base: QKCBUSD 900\n",
      "QKCBUSD origQty:89191 exQty:89191\n",
      "{'symbol': 'QKCBUSD', 'orderId': 11702282, 'orderListId': -1, 'clientOrderId': 'aXM53gFx1zD6Kfj4477Eac', 'transactTime': 1675165429536, 'price': '0.00000000', 'origQty': '89191.00000000', 'executedQty': '89191.00000000', 'cummulativeQuoteQty': '899.09626800', 'status': 'FILLED', 'timeInForce': 'GTC', 'type': 'MARKET', 'side': 'BUY', 'workingTime': 1675165429536, 'fills': [{'price': '0.00993500', 'qty': '1011.00000000', 'commission': '1.01100000', 'commissionAsset': 'QKC', 'tradeId': 392860}, {'price': '0.00993600', 'qty': '10868.00000000', 'commission': '10.86800000', 'commissionAsset': 'QKC', 'tradeId': 392861}, {'price': '0.00998200', 'qty': '9484.00000000', 'commission': '9.48400000', 'commissionAsset': 'QKC', 'tradeId': 392862}, {'price': '0.00998600', 'qty': '1501.00000000', 'commission': '1.50100000', 'commissionAsset': 'QKC', 'tradeId': 392863}, {'price': '0.01002700', 'qty': '6025.00000000', 'commission': '6.02500000', 'commissionAsset': 'QKC', 'tradeId': 392864}, {'price': '0.01003100', 'qty': '2620.00000000', 'commission': '2.62000000', 'commissionAsset': 'QKC', 'tradeId': 392865}, {'price': '0.01003400', 'qty': '3776.00000000', 'commission': '3.77600000', 'commissionAsset': 'QKC', 'tradeId': 392866}, {'price': '0.01012800', 'qty': '8910.00000000', 'commission': '8.91000000', 'commissionAsset': 'QKC', 'tradeId': 392867}, {'price': '0.01012900', 'qty': '9667.00000000', 'commission': '9.66700000', 'commissionAsset': 'QKC', 'tradeId': 392868}, {'price': '0.01013200', 'qty': '2591.00000000', 'commission': '2.59100000', 'commissionAsset': 'QKC', 'tradeId': 392869}, {'price': '0.01013500', 'qty': '3776.00000000', 'commission': '3.77600000', 'commissionAsset': 'QKC', 'tradeId': 392870}, {'price': '0.01013900', 'qty': '20733.00000000', 'commission': '20.73300000', 'commissionAsset': 'QKC', 'tradeId': 392871}, {'price': '0.01020000', 'qty': '8229.00000000', 'commission': '8.22900000', 'commissionAsset': 'QKC', 'tradeId': 392872}], 'selfTradePreventionMode': 'NONE'}\n",
      "o NULL\n",
      "{'не перекидываем ', 'BUSDBUSD'}\n"
     ]
    }
   ],
   "source": [
    "# Начальная закупка base на bot1   и quote на bot2\n",
    "#get_new_Work_usd()\n",
    "Work_usd  = 900 #\n",
    "\n",
    "# bot1 Купить baseAsset из Work_usd\n",
    "try :\n",
    "  print(usd_to_base( bot1, Work_usd))\n",
    "except :\n",
    "  print('b1 не купили')  \n",
    "# bot2 Купить quoteAsset из Work_usd\n",
    "try:\n",
    "  print(usd_to_quote(bot2, Work_usd))\n",
    "except :\n",
    "  print('b2 не купили') "
   ]
  },
  {
   "cell_type": "markdown",
   "metadata": {
    "id": "ArwAZbKeHVY5",
    "tags": []
   },
   "source": [
    "## распродажа монет"
   ]
  },
  {
   "cell_type": "code",
   "execution_count": 4,
   "metadata": {
    "colab": {
     "base_uri": "https://localhost:8080/"
    },
    "executionInfo": {
     "elapsed": 663,
     "status": "ok",
     "timestamp": 1668750266299,
     "user": {
      "displayName": "Александр Литвинов",
      "userId": "13946514427652999048"
     },
     "user_tz": -180
    },
    "id": "8O47-5YIcJfc",
    "outputId": "68d29083-1e4d-426a-9301-4b5c2d59522c",
    "tags": []
   },
   "outputs": [
    {
     "name": "stdout",
     "output_type": "stream",
     "text": [
      "b1 b:203848.0(527) q:788.04(788)   bq:1315.39  B:0.056   <>:1315.39\n",
      "b2 b:3624.0(9) q:459.70(460)   bq:469.07  B:0.057   <>:469.07\n",
      "b1  base_to_usd: TROYBUSD 203848.0\n",
      "TROYBUSD origQty:203644 exQty:203644\n",
      "o NULL\n",
      "o NULL\n"
     ]
    }
   ],
   "source": [
    "    # Перегоняем Quote и Base в USD\n",
    "    bal = get_balances() \n",
    "\n",
    "    if bal['bot1']['baseAsset']  > bal['base_min']  : \n",
    "        a=0\n",
    "        try : base_to_usd(bot1, bal['bot1']['baseAsset'])\n",
    "        except : print('err bot1 base_to_usd')\n",
    "\n",
    "    if bal['bot1']['quoteAsset'] > bal['quote_min'] : \n",
    "        a=0\n",
    "        try : quote_to_usd(bot1, bal['bot1']['quoteAsset'])\n",
    "        except : print('err bot1 quote_to_usd')\n",
    "\n",
    "\n",
    "    if bal['bot2']['baseAsset']  > bal['base_min']  : \n",
    "        a=0\n",
    "        try : base_to_usd(bot2, bal['bot2']['baseAsset'])   \n",
    "        except : print('err bot2 base_to_usd')\n",
    "    if bal['bot2']['quoteAsset'] > bal['quote_min'] : \n",
    "        a=0\n",
    "        try : quote_to_usd(bot2, bal['bot2']['quoteAsset'])\n",
    "        except : print('err bot2 quote_to_usd')"
   ]
  },
  {
   "cell_type": "code",
   "execution_count": 5,
   "metadata": {
    "id": "dnzSrZ11e1k8"
   },
   "outputs": [],
   "source": [
    "f = open('client_report.txt','w')\n",
    "\n",
    "f.write(str(client_report))\n",
    "\n",
    "f.close()"
   ]
  },
  {
   "cell_type": "code",
   "execution_count": null,
   "metadata": {},
   "outputs": [],
   "source": [
    "cancel_orders(bot1)\n",
    "cancel_orders(bot2)"
   ]
  },
  {
   "cell_type": "markdown",
   "metadata": {
    "id": "wgiOsP3rw1cj"
   },
   "source": [
    "## Балансы > 0"
   ]
  },
  {
   "cell_type": "code",
   "execution_count": 4,
   "metadata": {
    "colab": {
     "base_uri": "https://localhost:8080/",
     "height": 467
    },
    "executionInfo": {
     "elapsed": 484,
     "status": "error",
     "timestamp": 1669796289496,
     "user": {
      "displayName": "Александр Литвинов",
      "userId": "13946514427652999048"
     },
     "user_tz": -180
    },
    "id": "qUUSBja3_els",
    "jupyter": {
     "source_hidden": true
    },
    "outputId": "b6219f70-7e4a-440c-c79c-fbe82dd104bc",
    "tags": []
   },
   "outputs": [
    {
     "name": "stdout",
     "output_type": "stream",
     "text": [
      "bot2\n",
      "{'asset': 'BNB', 'free': '0.22518968', 'locked': '0.00000000'}\n",
      "{'asset': 'BUSD', 'free': '1827.54489500', 'locked': '0.00000000'}\n",
      "{'asset': 'HARD', 'free': '961.00000000', 'locked': '0.00000000'}\n"
     ]
    }
   ],
   "source": [
    "# Balances > 0\n",
    "\n",
    "#print('bot1')\n",
    "#acc = bot1.account()['balances']\n",
    "#for i in range( len(acc) ):\n",
    "#  if float(acc[i]['free']) > 0 :\n",
    "#    print(acc[i])\n",
    "\n",
    "print('bot2')\n",
    "acc = bot2.account()['balances']\n",
    "for i in range( len(acc) ):\n",
    "  if float(acc[i]['free']) > 0 :\n",
    "    print(acc[i])"
   ]
  },
  {
   "cell_type": "markdown",
   "metadata": {
    "id": "fWIC6GwYw67C"
   },
   "source": [
    "## createOrders"
   ]
  },
  {
   "cell_type": "code",
   "execution_count": 5,
   "metadata": {
    "colab": {
     "base_uri": "https://localhost:8080/"
    },
    "executionInfo": {
     "elapsed": 266,
     "status": "ok",
     "timestamp": 1668749642561,
     "user": {
      "displayName": "Александр Литвинов",
      "userId": "13946514427652999048"
     },
     "user_tz": -180
    },
    "id": "VsGExiB6wScu",
    "outputId": "fe9625bc-a559-440f-eda0-e0cfc47dc84c"
   },
   "outputs": [
    {
     "name": "stdout",
     "output_type": "stream",
     "text": [
      "ab: BUSDUSDT\n"
     ]
    },
    {
     "ename": "KeyError",
     "evalue": "'USDTBUSD'",
     "output_type": "error",
     "traceback": [
      "\u001b[1;31m---------------------------------------------------------------------------\u001b[0m",
      "\u001b[1;31mException\u001b[0m                                 Traceback (most recent call last)",
      "\u001b[1;32m~\\AppData\\Local\\Temp\\2\\ipykernel_6480\\1856942424.py\u001b[0m in \u001b[0;36matob\u001b[1;34m(bot, a, b, qty, qty_in_A_or_B)\u001b[0m\n\u001b[0;32m      9\u001b[0m         \u001b[1;32mif\u001b[0m \u001b[0mqty_in_A_or_B\u001b[0m \u001b[1;33m==\u001b[0m \u001b[1;36m1\u001b[0m \u001b[1;32mor\u001b[0m \u001b[0mqty_in_A_or_B\u001b[0m \u001b[1;33m==\u001b[0m \u001b[1;34m'a'\u001b[0m\u001b[1;33m:\u001b[0m\u001b[1;33m\u001b[0m\u001b[1;33m\u001b[0m\u001b[0m\n\u001b[1;32m---> 10\u001b[1;33m             print(bot.createOrder(\n\u001b[0m\u001b[0;32m     11\u001b[0m             \u001b[0msymbol\u001b[0m        \u001b[1;33m=\u001b[0m \u001b[0mpair\u001b[0m\u001b[1;33m,\u001b[0m\u001b[1;33m\u001b[0m\u001b[1;33m\u001b[0m\u001b[0m\n",
      "\u001b[1;32m~\\AppData\\Local\\Temp\\2\\ipykernel_6480\\1486528545.py\u001b[0m in \u001b[0;36mwrapper\u001b[1;34m(*args, **kwargs)\u001b[0m\n\u001b[0;32m     84\u001b[0m             \u001b[0mkwargs\u001b[0m\u001b[1;33m.\u001b[0m\u001b[0mupdate\u001b[0m\u001b[1;33m(\u001b[0m\u001b[0mcommand\u001b[0m\u001b[1;33m=\u001b[0m\u001b[0mname\u001b[0m\u001b[1;33m)\u001b[0m\u001b[1;33m\u001b[0m\u001b[1;33m\u001b[0m\u001b[0m\n\u001b[1;32m---> 85\u001b[1;33m             \u001b[1;32mreturn\u001b[0m \u001b[0mself\u001b[0m\u001b[1;33m.\u001b[0m\u001b[0mcall_api\u001b[0m\u001b[1;33m(\u001b[0m\u001b[1;33m**\u001b[0m\u001b[0mkwargs\u001b[0m\u001b[1;33m)\u001b[0m\u001b[1;33m\u001b[0m\u001b[1;33m\u001b[0m\u001b[0m\n\u001b[0m\u001b[0;32m     86\u001b[0m         \u001b[1;32mreturn\u001b[0m \u001b[0mwrapper\u001b[0m\u001b[1;33m\u001b[0m\u001b[1;33m\u001b[0m\u001b[0m\n",
      "\u001b[1;32m~\\AppData\\Local\\Temp\\2\\ipykernel_6480\\1486528545.py\u001b[0m in \u001b[0;36mcall_api\u001b[1;34m(self, **kwargs)\u001b[0m\n\u001b[0;32m    121\u001b[0m         \u001b[1;32mif\u001b[0m \u001b[1;34m'code'\u001b[0m \u001b[1;32min\u001b[0m \u001b[0mresponse\u001b[0m\u001b[1;33m.\u001b[0m\u001b[0mtext\u001b[0m\u001b[1;33m:\u001b[0m\u001b[1;33m\u001b[0m\u001b[1;33m\u001b[0m\u001b[0m\n\u001b[1;32m--> 122\u001b[1;33m             \u001b[1;32mraise\u001b[0m \u001b[0mException\u001b[0m\u001b[1;33m(\u001b[0m\u001b[0mresponse\u001b[0m\u001b[1;33m.\u001b[0m\u001b[0mtext\u001b[0m\u001b[1;33m)\u001b[0m\u001b[1;33m\u001b[0m\u001b[1;33m\u001b[0m\u001b[0m\n\u001b[0m\u001b[0;32m    123\u001b[0m \u001b[1;33m\u001b[0m\u001b[0m\n",
      "\u001b[1;31mException\u001b[0m: {\"code\":-2010,\"msg\":\"This action is disabled on this account.\"}",
      "\nDuring handling of the above exception, another exception occurred:\n",
      "\u001b[1;31mKeyError\u001b[0m                                  Traceback (most recent call last)",
      "\u001b[1;32m~\\AppData\\Local\\Temp\\2\\ipykernel_6480\\3222338956.py\u001b[0m in \u001b[0;36m<module>\u001b[1;34m\u001b[0m\n\u001b[1;32m----> 1\u001b[1;33m \u001b[0matob\u001b[0m\u001b[1;33m(\u001b[0m\u001b[0mbot2\u001b[0m\u001b[1;33m,\u001b[0m \u001b[1;34m'BUSD'\u001b[0m\u001b[1;33m,\u001b[0m \u001b[1;34m'USDT'\u001b[0m\u001b[1;33m,\u001b[0m \u001b[1;36m20\u001b[0m\u001b[1;33m,\u001b[0m \u001b[1;34m'a'\u001b[0m\u001b[1;33m)\u001b[0m\u001b[1;33m\u001b[0m\u001b[1;33m\u001b[0m\u001b[0m\n\u001b[0m",
      "\u001b[1;32m~\\AppData\\Local\\Temp\\2\\ipykernel_6480\\1856942424.py\u001b[0m in \u001b[0;36matob\u001b[1;34m(bot, a, b, qty, qty_in_A_or_B)\u001b[0m\n\u001b[0;32m     20\u001b[0m     \u001b[1;32mexcept\u001b[0m \u001b[1;33m:\u001b[0m\u001b[1;33m\u001b[0m\u001b[1;33m\u001b[0m\u001b[0m\n\u001b[0;32m     21\u001b[0m         \u001b[0mpair\u001b[0m \u001b[1;33m=\u001b[0m \u001b[0mb\u001b[0m\u001b[1;33m+\u001b[0m\u001b[0ma\u001b[0m\u001b[1;33m\u001b[0m\u001b[1;33m\u001b[0m\u001b[0m\n\u001b[1;32m---> 22\u001b[1;33m         \u001b[0msett\u001b[0m\u001b[1;33m[\u001b[0m \u001b[0mpair\u001b[0m \u001b[1;33m]\u001b[0m\u001b[1;33m;\u001b[0m\u001b[1;33m\u001b[0m\u001b[1;33m\u001b[0m\u001b[0m\n\u001b[0m\u001b[0;32m     23\u001b[0m         \u001b[0mprint\u001b[0m\u001b[1;33m(\u001b[0m\u001b[1;34m'ba:'\u001b[0m\u001b[1;33m,\u001b[0m \u001b[0mpair\u001b[0m\u001b[1;33m)\u001b[0m\u001b[1;33m\u001b[0m\u001b[1;33m\u001b[0m\u001b[0m\n\u001b[0;32m     24\u001b[0m \u001b[1;33m\u001b[0m\u001b[0m\n",
      "\u001b[1;31mKeyError\u001b[0m: 'USDTBUSD'"
     ]
    }
   ],
   "source": [
    "atob(bot2, 'BUSD', 'USDT', 20, 'a')  "
   ]
  },
  {
   "cell_type": "markdown",
   "metadata": {
    "id": "URmir7TbF4eQ",
    "tags": []
   },
   "source": [
    "# START"
   ]
  },
  {
   "cell_type": "code",
   "execution_count": 2,
   "metadata": {},
   "outputs": [],
   "source": [
    "from tkinter import *  # для построения окна\n",
    "\n",
    "stop_stream = True\n",
    "ws = Tk() # создается окно\n",
    "ws.title('pyaudio')\n",
    "def clicked():  \n",
    "    global stop_stream\n",
    "    stop_stream = True\n",
    "btn = Button(ws, text=\"Stop\", command=clicked)  \n",
    "btn.grid(column=2, row=0)  "
   ]
  }
 ],
 "metadata": {
  "colab": {
   "collapsed_sections": [
    "7jaWbQ1Cm6XZ",
    "8ary4IMwFyEc",
    "ArwAZbKeHVY5"
   ],
   "provenance": [
    {
     "file_id": "1dd5qV6joByRS6sAmBXyxSsoQkYSpRcrK",
     "timestamp": 1668774520705
    },
    {
     "file_id": "12LlhdNBdyNByDuvT5p443cdkrxWatwID",
     "timestamp": 1668419834999
    }
   ],
   "toc_visible": true
  },
  "kernelspec": {
   "display_name": "Python 3 (ipykernel)",
   "language": "python",
   "name": "python3"
  },
  "language_info": {
   "codemirror_mode": {
    "name": "ipython",
    "version": 3
   },
   "file_extension": ".py",
   "mimetype": "text/x-python",
   "name": "python",
   "nbconvert_exporter": "python",
   "pygments_lexer": "ipython3",
   "version": "3.9.13"
  },
  "vscode": {
   "interpreter": {
    "hash": "a077222d77dfe082b8f1dd562ad70e458ac2ab76993a0b248ab0476e32e9e8dd"
   }
  },
  "widgets": {
   "application/vnd.jupyter.widget-state+json": {
    "state": {},
    "version_major": 2,
    "version_minor": 0
   }
  }
 },
 "nbformat": 4,
 "nbformat_minor": 4
}
