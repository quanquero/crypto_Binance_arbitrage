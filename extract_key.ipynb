import json

# Путь к JSON файлу с ключами
json_file_path = r"c:\Users\cafa1\Downloads\Telegram Desktop\cdp_api_key (1).json"

# Чтение JSON файла
with open(json_file_path, 'r') as file:
    api_key_data = json.load(file)

# Извлечение имени ключа и организации
key_name = api_key_data['name']
org_id = key_name.split('/')[1]  # Извлекаем ID организации из пути
api_key_id = key_name.split('/')[-1]  # Извлекаем ID ключа из пути

# Извлечение приватного ключа
private_key_raw = api_key_data['privateKey']

# Вариант 1: Использование ключа с экранированными переносами строк
print("=== Ключ с экранированными переносами строк ===")
print(repr(private_key_raw))  # repr() показывает строку с экранированием

# Вариант 2: Преобразование в ключ с настоящими переносами строк
print("\n=== Ключ с настоящими переносами строк ===")
# Это лучший вариант для использования в коде
private_key_formatted = private_key_raw.replace("\\n", "\n")
print(private_key_formatted

# Вывод информации для использования в коде
print("\n=== Информация для использования в коде ===")
print(f"ID организации: {org_id}")
print(f"ID API ключа: {api_key_id}")
print("Приватный ключ (используйте тройные кавычки для сохранения форматирования):")
print("private_key = \"\"\"" + private_key_formatted + "\"\"\"") 