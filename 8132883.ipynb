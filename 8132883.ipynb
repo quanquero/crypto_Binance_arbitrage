{
 "cells": [
  {
   "cell_type": "markdown",
   "metadata": {
    "id": "eWhfHTUnzRzu"
   },
   "source": [
    "# Методы"
   ]
  },
  {
   "cell_type": "code",
   "execution_count": 6,
   "metadata": {},
   "outputs": [],
   "source": [
    "#1 кошелек, откуда переливаем\n",
    "\n",
    "b1_API_KEY='Dnc2nQbRZbyA5UCHB7GR1jRQxXcg22a16PRLSF66w0vYPCi8QF8b7MtlZpmYrusR' #37\n",
    "b1_API_SECRET='g72bOnV5vHpoSdBF3OWOuJaA9A7pXOErj2RbzOu23LgaARASpAn0gfQARpzowx3b' #17.01.23\n",
    "\n",
    "# кошелек, куда переливаем\n",
    "    # Казахстан\n",
    "b2_API_KEY='BBVB7MUNxnHKwrtf5zTolsFoQQYR48LQMrCdOgAnvvQaAswgCvmH1Sn2xflMcyV6'\n",
    "b2_API_SECRET='KEusjlIsaFnkAdinOrdCALHZpdIsIjeZEtKG6DgPv64Xe12uTIc09zhQ7zWiSfQv'\n",
    "\n",
    "\n",
    "\n",
    "%run fn.ipynb"
   ]
  },
  {
   "cell_type": "code",
   "execution_count": 9,
   "metadata": {
    "colab": {
     "base_uri": "https://localhost:8080/"
    },
    "executionInfo": {
     "elapsed": 375,
     "status": "ok",
     "timestamp": 1669822340180,
     "user": {
      "displayName": "Александр Литвинов",
      "userId": "13946514427652999048"
     },
     "user_tz": -180
    },
    "id": "5vFSPcPhXmXn",
    "outputId": "257ddbc4-34a4-4c2a-eb37-193523b294da"
   },
   "outputs": [
    {
     "name": "stdout",
     "output_type": "stream",
     "text": [
      "base_quote: HIGHBNB\n",
      "base_usd: HIGHBUSD True\n",
      "quote_usd: BNBBUSD True\n"
     ]
    }
   ],
   "source": [
    "#2 подготовка параметров для торговли  \n",
    "min_spread_in_percent = 0.6\n",
    "\n",
    "\n",
    "b = 'HIGH'; # 2/10\n",
    "q = 'BNB'; u = 'BUSD'\n",
    "\n",
    "\n",
    "#b1_start = 1798;   b2_start = 256+800-78-20 - 668\n",
    "b1_start = 8984;   b2_start = 1500\n",
    " \n",
    "\n",
    "\n",
    "#------------------\n",
    "Work_usd  = 90 # количество USD для работы\n",
    "usd_min   = 25\n",
    "kb = 0.98\n",
    "#------------------\n",
    "find_pairs(b, q, u)\n",
    "coin_bunch = 2\n",
    "if q == u : busd_busd = True\n",
    "else      : busd_busd = False\n",
    "o1={}; o2={}\n",
    "client_report = ''\n",
    "isWriteToFile = False"
   ]
  },
  {
   "cell_type": "code",
   "execution_count": null,
   "metadata": {},
   "outputs": [
    {
     "name": "stdout",
     "output_type": "stream",
     "text": [
      "b1 b:0.0(0) q:5.12(1544)   bq:1544.11  B:5.123   <>:1544.11\n",
      "b2 b:418.45(483) q:1.25(376)   bq:859.65  B:1.249   <>:859.65\n",
      "New W_usd: 773.69\n",
      "b1 b:0.0(0) q:5.12(1544)   bq:1544.11  B:5.123   <>:0.00\n",
      "b2 b:418.45(483) q:1.25(376)   bq:859.65  B:1.249   <>:0.00\n",
      "b1 BNB ok\n",
      "b2 BNB ok\n",
      "b1 b:0.0(0) q:5.12(1544)   bq:1544.11  B:5.123   <>:0.00\n",
      "b2 b:418.45(483) q:1.25(376)   bq:859.65  B:1.249   <>:0.00\n",
      "b2 SELL  HIGHBNB price_up: 0.003853 quantity: 409.67\n",
      "b2  {\"code\":-2010,\"msg\":\"This action is disabled on this account.\"}\n",
      "b2 setOrder o NULL\n",
      "b1 setOrder HIGHBNB origQty:409.67 exQty:0.00\n",
      "o2 False\n",
      "sell_buy() False \n",
      "\n",
      "b1 b:409.67(474) q:3.54(1068)   bq:1541.94  B:3.544   <>:-2.17\n",
      "b2 b:418.45(484) q:1.25(376)   bq:860.19  B:1.249   <>:0.54\n",
      "b2 SELL  HIGHBNB price_up: 0.003843 quantity: 409.67\n",
      "b2  {\"code\":-2010,\"msg\":\"This action is disabled on this account.\"}\n",
      "b2 setOrder o NULL\n",
      "b1 setOrder HIGHBNB origQty:409.67 exQty:0.00\n",
      "o2 False\n",
      "sell_buy() False \n",
      "\n"
     ]
    }
   ],
   "source": [
    "#4 START\n",
    "\n",
    "isWriteToFile = True\n",
    "if isWriteToFile : f = createFile('rep\\K')\n",
    "\n",
    "\n",
    "BS_async = True\n",
    "SB_async = True\n",
    "time_b2_b1 = 0.5\n",
    "\n",
    "time_wait_spread = 3 #sek\n",
    "eat_vol = 0.06\n",
    "\n",
    "\n",
    "cancel_orders(bot2)\n",
    "get_new_Work_usd()\n",
    "busd_to_bnb()\n",
    "\n",
    "#after_sell()\n",
    "\n",
    "# Если начинать с продажи\n",
    "#await _try_sell_buy()  if SB_async else try_sell_buy()\n",
    "\n",
    "\n",
    "#global client_report\n",
    "step = 1\n",
    "while 1 :\n",
    "  print('\\n--------------------------------------------------------------------------------')\n",
    "  print(f'шаг {step}')\n",
    "  client_report = client_report + f'шаг {step}' + '\\n'\n",
    "  print('\\n------------BUY - SELL')\n",
    "\n",
    "  #is_async if   await try_buy_sell() else try_buy_sell()\n",
    "  await _try_buy_sell()  if BS_async else try_buy_sell()\n",
    "\n",
    "  if step % 2 == 1 :\n",
    "    print('\\n------------BUSD_TO_BNB')\n",
    "    busd_to_bnb()  #!!!!!!!!!!!!!!!!!!!!!!!!!!!!!\n",
    "  if step % 8 == 1 :\n",
    "    print('\\n------------WORK_USD')\n",
    "    get_new_Work_usd()\n",
    "  print('\\n------------SELL - BUY')\n",
    "\n",
    "    \n",
    "  await _try_sell_buy()  if SB_async else try_sell_buy()\n",
    "\n",
    "  t = random.random() *35 + 5\n",
    "  print('sleep: ', t)\n",
    "  time.sleep( t )\n",
    "  step = step + 1"
   ]
  },
  {
   "cell_type": "code",
   "execution_count": 3,
   "metadata": {
    "colab": {
     "base_uri": "https://localhost:8080/",
     "height": 324
    },
    "executionInfo": {
     "elapsed": 3001,
     "status": "error",
     "timestamp": 1669818196612,
     "user": {
      "displayName": "Александр Литвинов",
      "userId": "13946514427652999048"
     },
     "user_tz": -180
    },
    "id": "VDpRAXSJhta_",
    "outputId": "6354fcfd-1892-46b9-f626-fe881436c787",
    "tags": []
   },
   "outputs": [
    {
     "ename": "NameError",
     "evalue": "name 'base_quote' is not defined",
     "output_type": "error",
     "traceback": [
      "\u001b[1;31m---------------------------------------------------------------------------\u001b[0m",
      "\u001b[1;31mNameError\u001b[0m                                 Traceback (most recent call last)",
      "\u001b[1;32m~\\AppData\\Local\\Temp\\2\\ipykernel_5136\\3520368478.py\u001b[0m in \u001b[0;36m<module>\u001b[1;34m\u001b[0m\n\u001b[0;32m      1\u001b[0m \u001b[1;31m#Балансы в паре счетов\u001b[0m\u001b[1;33m\u001b[0m\u001b[1;33m\u001b[0m\u001b[0m\n\u001b[1;32m----> 2\u001b[1;33m \u001b[0mget_new_Work_usd\u001b[0m\u001b[1;33m(\u001b[0m\u001b[1;33m)\u001b[0m\u001b[1;33m\u001b[0m\u001b[1;33m\u001b[0m\u001b[0m\n\u001b[0m\u001b[0;32m      3\u001b[0m \u001b[1;33m\u001b[0m\u001b[0m\n\u001b[0;32m      4\u001b[0m \u001b[1;31m#\u001b[0m\u001b[1;33m\u001b[0m\u001b[1;33m\u001b[0m\u001b[0m\n\u001b[0;32m      5\u001b[0m \u001b[1;32mif\u001b[0m \u001b[0mbal\u001b[0m\u001b[1;33m[\u001b[0m\u001b[1;34m'bot1'\u001b[0m\u001b[1;33m]\u001b[0m\u001b[1;33m[\u001b[0m\u001b[1;34m'quote_in_usd'\u001b[0m\u001b[1;33m]\u001b[0m \u001b[1;33m>\u001b[0m \u001b[0mWork_usd\u001b[0m \u001b[1;32mand\u001b[0m \u001b[0mbal\u001b[0m\u001b[1;33m[\u001b[0m\u001b[1;34m'bot2'\u001b[0m\u001b[1;33m]\u001b[0m\u001b[1;33m[\u001b[0m\u001b[1;34m'base_in_usd'\u001b[0m\u001b[1;33m]\u001b[0m \u001b[1;33m>\u001b[0m \u001b[0mWork_usd\u001b[0m \u001b[1;33m:\u001b[0m\u001b[1;33m\u001b[0m\u001b[1;33m\u001b[0m\u001b[0m\n",
      "\u001b[1;32m~\\AppData\\Local\\Temp\\2\\ipykernel_5136\\3981247343.py\u001b[0m in \u001b[0;36mget_new_Work_usd\u001b[1;34m()\u001b[0m\n\u001b[0;32m      1\u001b[0m \u001b[1;32mdef\u001b[0m \u001b[0mget_new_Work_usd\u001b[0m\u001b[1;33m(\u001b[0m\u001b[1;33m)\u001b[0m \u001b[1;33m:\u001b[0m\u001b[1;33m\u001b[0m\u001b[1;33m\u001b[0m\u001b[0m\n\u001b[0;32m      2\u001b[0m   \u001b[1;32mglobal\u001b[0m \u001b[0mbal\u001b[0m\u001b[1;33m\u001b[0m\u001b[1;33m\u001b[0m\u001b[0m\n\u001b[1;32m----> 3\u001b[1;33m   \u001b[0mbal\u001b[0m \u001b[1;33m=\u001b[0m \u001b[0mget_balances\u001b[0m\u001b[1;33m(\u001b[0m\u001b[1;33m)\u001b[0m\u001b[1;33m\u001b[0m\u001b[1;33m\u001b[0m\u001b[0m\n\u001b[0m\u001b[0;32m      4\u001b[0m \u001b[1;33m\u001b[0m\u001b[0m\n\u001b[0;32m      5\u001b[0m   \u001b[1;32mglobal\u001b[0m \u001b[0mWork_usd\u001b[0m\u001b[1;33m\u001b[0m\u001b[1;33m\u001b[0m\u001b[0m\n",
      "\u001b[1;32m~\\AppData\\Local\\Temp\\2\\ipykernel_5136\\1611301423.py\u001b[0m in \u001b[0;36mget_balances\u001b[1;34m()\u001b[0m\n\u001b[0;32m     12\u001b[0m       \u001b[0mbal\u001b[0m\u001b[1;33m[\u001b[0m\u001b[1;34m'bot1'\u001b[0m\u001b[1;33m]\u001b[0m\u001b[1;33m[\u001b[0m \u001b[0mUSD\u001b[0m \u001b[1;33m]\u001b[0m       \u001b[1;33m=\u001b[0m \u001b[0mfloat\u001b[0m\u001b[1;33m(\u001b[0m\u001b[0macc\u001b[0m\u001b[1;33m[\u001b[0m\u001b[0mi\u001b[0m\u001b[1;33m]\u001b[0m\u001b[1;33m[\u001b[0m\u001b[1;34m'free'\u001b[0m\u001b[1;33m]\u001b[0m\u001b[1;33m)\u001b[0m\u001b[1;33m\u001b[0m\u001b[1;33m\u001b[0m\u001b[0m\n\u001b[0;32m     13\u001b[0m       \u001b[1;31m#print(acc[i])\u001b[0m\u001b[1;33m\u001b[0m\u001b[1;33m\u001b[0m\u001b[0m\n\u001b[1;32m---> 14\u001b[1;33m     \u001b[1;32mif\u001b[0m \u001b[0macc\u001b[0m\u001b[1;33m[\u001b[0m\u001b[0mi\u001b[0m\u001b[1;33m]\u001b[0m\u001b[1;33m[\u001b[0m\u001b[1;34m'asset'\u001b[0m\u001b[1;33m]\u001b[0m \u001b[1;33m==\u001b[0m \u001b[0msett\u001b[0m\u001b[1;33m[\u001b[0m\u001b[0mbase_quote\u001b[0m\u001b[1;33m]\u001b[0m\u001b[1;33m[\u001b[0m\u001b[1;34m'baseAsset'\u001b[0m\u001b[1;33m]\u001b[0m \u001b[1;33m:\u001b[0m\u001b[1;33m\u001b[0m\u001b[1;33m\u001b[0m\u001b[0m\n\u001b[0m\u001b[0;32m     15\u001b[0m       \u001b[0mbal\u001b[0m\u001b[1;33m[\u001b[0m\u001b[1;34m'bot1'\u001b[0m\u001b[1;33m]\u001b[0m\u001b[1;33m[\u001b[0m\u001b[1;34m'baseAsset'\u001b[0m\u001b[1;33m]\u001b[0m  \u001b[1;33m=\u001b[0m \u001b[0mfloat\u001b[0m\u001b[1;33m(\u001b[0m\u001b[0macc\u001b[0m\u001b[1;33m[\u001b[0m\u001b[0mi\u001b[0m\u001b[1;33m]\u001b[0m\u001b[1;33m[\u001b[0m\u001b[1;34m'free'\u001b[0m\u001b[1;33m]\u001b[0m\u001b[1;33m)\u001b[0m\u001b[1;33m\u001b[0m\u001b[1;33m\u001b[0m\u001b[0m\n\u001b[0;32m     16\u001b[0m       \u001b[1;31m#print(acc[i])\u001b[0m\u001b[1;33m\u001b[0m\u001b[1;33m\u001b[0m\u001b[0m\n",
      "\u001b[1;31mNameError\u001b[0m: name 'base_quote' is not defined"
     ]
    }
   ],
   "source": [
    "#Балансы в паре счетов\n",
    "get_new_Work_usd()\n",
    "\n",
    "#\n",
    "if bal['bot1']['quote_in_usd'] > Work_usd and bal['bot2']['base_in_usd'] > Work_usd :\n",
    "  print('need SellBuy')\n",
    "\n",
    "if bal['bot1']['base_in_usd'] > Work_usd and bal['bot2']['quote_in_usd'] > Work_usd :\n",
    "  print('need BuySell')\n",
    "\n",
    "if bal['bot1']['base_in_usd'] > Work_usd and bal['bot2']['base_in_usd'] > Work_usd :\n",
    "  print('need sell base')\n",
    "\n",
    "if bal['bot1']['quote_in_usd'] > Work_usd and bal['bot2']['quote_in_usd'] > Work_usd :\n",
    "  print('need buy base')\n",
    "\n",
    "  "
   ]
  },
  {
   "cell_type": "markdown",
   "metadata": {
    "id": "8ary4IMwFyEc"
   },
   "source": [
    "## Начальная закупка"
   ]
  },
  {
   "cell_type": "code",
   "execution_count": 9,
   "metadata": {
    "colab": {
     "base_uri": "https://localhost:8080/"
    },
    "executionInfo": {
     "elapsed": 290,
     "status": "ok",
     "timestamp": 1668767707278,
     "user": {
      "displayName": "Александр Литвинов",
      "userId": "13946514427652999048"
     },
     "user_tz": -180
    },
    "id": "sbJiOxqZId7P",
    "outputId": "ea3b7f23-d2a2-4dc2-aa7c-484d08238ef4",
    "tags": []
   },
   "outputs": [
    {
     "name": "stdout",
     "output_type": "stream",
     "text": [
      "b1  usd_to_base: HIGHBUSD 500\n",
      "HIGHBUSD origQty:550.608 exQty:550.608\n",
      "{'symbol': 'HIGHBUSD', 'orderId': 28036534, 'orderListId': -1, 'clientOrderId': 'ww4XGeH4nwkQLPjNfuFtpP', 'transactTime': 1673218354603, 'price': '0.00000000', 'origQty': '550.60800000', 'executedQty': '550.60800000', 'cummulativeQuoteQty': '499.49926100', 'status': 'FILLED', 'timeInForce': 'GTC', 'type': 'MARKET', 'side': 'BUY', 'workingTime': 1673218354603, 'fills': [{'price': '0.90700000', 'qty': '105.79700000', 'commission': '0.00026604', 'commissionAsset': 'BNB', 'tradeId': 2724845}, {'price': '0.90700000', 'qty': '92.00600000', 'commission': '0.00023136', 'commissionAsset': 'BNB', 'tradeId': 2724846}, {'price': '0.90700000', 'qty': '25.50000000', 'commission': '0.00006412', 'commissionAsset': 'BNB', 'tradeId': 2724847}, {'price': '0.90700000', 'qty': '25.50000000', 'commission': '0.00006412', 'commissionAsset': 'BNB', 'tradeId': 2724848}, {'price': '0.90700000', 'qty': '25.50000000', 'commission': '0.00006412', 'commissionAsset': 'BNB', 'tradeId': 2724849}, {'price': '0.90700000', 'qty': '25.50000000', 'commission': '0.00006412', 'commissionAsset': 'BNB', 'tradeId': 2724850}, {'price': '0.90700000', 'qty': '25.50000000', 'commission': '0.00006412', 'commissionAsset': 'BNB', 'tradeId': 2724851}, {'price': '0.90700000', 'qty': '25.50000000', 'commission': '0.00006412', 'commissionAsset': 'BNB', 'tradeId': 2724852}, {'price': '0.90700000', 'qty': '25.50000000', 'commission': '0.00006412', 'commissionAsset': 'BNB', 'tradeId': 2724853}, {'price': '0.90700000', 'qty': '25.50000000', 'commission': '0.00006412', 'commissionAsset': 'BNB', 'tradeId': 2724854}, {'price': '0.90700000', 'qty': '25.50000000', 'commission': '0.00006412', 'commissionAsset': 'BNB', 'tradeId': 2724855}, {'price': '0.90700000', 'qty': '25.50000000', 'commission': '0.00006412', 'commissionAsset': 'BNB', 'tradeId': 2724856}, {'price': '0.90800000', 'qty': '97.80500000', 'commission': '0.00024595', 'commissionAsset': 'BNB', 'tradeId': 2724857}], 'selfTradePreventionMode': 'NONE'}\n",
      "b2  usd_to_quote: BNBBUSD 500\n",
      "b2 не купили\n"
     ]
    }
   ],
   "source": [
    "# Начальная закупка base на bot1   и quote на bot2\n",
    "#get_new_Work_usd()\n",
    "Work_usd  = 1500 # количество USD для работы/\n",
    "\n",
    "# bot1 Купить baseAsset из Work_usd\n",
    "try :\n",
    "  print(usd_to_base( bot1, Work_usd))\n",
    "except :\n",
    "  print('b1 не купили')  \n",
    "# bot2 Купить quoteAsset из Work_usd\n",
    "try:\n",
    "  print(usd_to_quote(bot2, Work_usd))\n",
    "except :\n",
    "  print('b2 не купили') "
   ]
  },
  {
   "cell_type": "markdown",
   "metadata": {
    "id": "ArwAZbKeHVY5",
    "tags": []
   },
   "source": [
    "## распродажа монет"
   ]
  },
  {
   "cell_type": "code",
   "execution_count": 10,
   "metadata": {
    "colab": {
     "base_uri": "https://localhost:8080/"
    },
    "executionInfo": {
     "elapsed": 663,
     "status": "ok",
     "timestamp": 1668750266299,
     "user": {
      "displayName": "Александр Литвинов",
      "userId": "13946514427652999048"
     },
     "user_tz": -180
    },
    "id": "8O47-5YIcJfc",
    "outputId": "68d29083-1e4d-426a-9301-4b5c2d59522c",
    "tags": []
   },
   "outputs": [
    {
     "name": "stdout",
     "output_type": "stream",
     "text": [
      "b1 b:0.408(0) q:0.03(8)   bq:8.68  B:0.027   <>:0.00\n",
      "b2 b:418.45(487) q:1.25(379)   bq:866.08  B:1.249   <>:0.00\n",
      "b2  base_to_usd: HIGHBUSD 418.45\n",
      "err bot2 base_to_usd\n",
      "b2  quote_to_usd: BNBBUSD 1.24866056\n",
      "err bot2 quote_to_usd\n"
     ]
    }
   ],
   "source": [
    "# Перегоняем Quote и Base в USD\n",
    "bal = get_balances() \n",
    "\n",
    "if bal['bot1']['baseAsset']  > bal['base_min']  : \n",
    "    a=0\n",
    "    try : base_to_usd(bot1, bal['bot1']['baseAsset'])\n",
    "    except : print('err bot1 base_to_usd')\n",
    "     \n",
    "if bal['bot1']['quoteAsset'] > bal['quote_min'] : \n",
    "    a=0\n",
    "    try : quote_to_usd(bot1, bal['bot1']['quoteAsset'])\n",
    "    except : print('err bot1 quote_to_usd')\n",
    "\n",
    "        \n",
    "if bal['bot2']['baseAsset']  > bal['base_min']  : \n",
    "    a=0\n",
    "    try : base_to_usd(bot2, bal['bot2']['baseAsset'])   \n",
    "    except : print('err bot2 base_to_usd')\n",
    "if bal['bot2']['quoteAsset'] > bal['quote_min'] : \n",
    "    a=0\n",
    "    try : quote_to_usd(bot2, bal['bot2']['quoteAsset'])\n",
    "    except : print('err bot2 quote_to_usd')"
   ]
  },
  {
   "cell_type": "code",
   "execution_count": 8,
   "metadata": {
    "colab": {
     "base_uri": "https://localhost:8080/"
    },
    "executionInfo": {
     "elapsed": 737,
     "status": "ok",
     "timestamp": 1668777154344,
     "user": {
      "displayName": "Александр Литвинов",
      "userId": "13946514427652999048"
     },
     "user_tz": -180
    },
    "id": "tcDqqlAkWUO6",
    "outputId": "110a3b57-f1c9-45f1-ec82-fc19867d2c50"
   },
   "outputs": [],
   "source": [
    "cancel_orders(bot1)\n",
    "cancel_orders(bot2)"
   ]
  },
  {
   "cell_type": "markdown",
   "metadata": {
    "id": "wgiOsP3rw1cj"
   },
   "source": [
    "## Балансы > 0"
   ]
  },
  {
   "cell_type": "code",
   "execution_count": 4,
   "metadata": {
    "colab": {
     "base_uri": "https://localhost:8080/",
     "height": 467
    },
    "executionInfo": {
     "elapsed": 484,
     "status": "error",
     "timestamp": 1669796289496,
     "user": {
      "displayName": "Александр Литвинов",
      "userId": "13946514427652999048"
     },
     "user_tz": -180
    },
    "id": "qUUSBja3_els",
    "outputId": "b6219f70-7e4a-440c-c79c-fbe82dd104bc",
    "tags": []
   },
   "outputs": [
    {
     "name": "stdout",
     "output_type": "stream",
     "text": [
      "bot1\n",
      "{'asset': 'BTC', 'free': '0.00000134', 'locked': '0.00000000'}\n",
      "{'asset': 'BNB', 'free': '0.02706916', 'locked': '0.00000000'}\n",
      "{'asset': 'USDT', 'free': '18.97729355', 'locked': '0.00000000'}\n",
      "{'asset': 'LRC', 'free': '3.34000000', 'locked': '0.00000000'}\n",
      "{'asset': 'XMR', 'free': '0.00401226', 'locked': '0.00000000'}\n",
      "{'asset': 'BUSD', 'free': '25.40214310', 'locked': '0.00000000'}\n",
      "{'asset': 'WBTC', 'free': '0.00003000', 'locked': '0.00000000'}\n",
      "{'asset': 'HIGH', 'free': '0.40800000', 'locked': '0.00000000'}\n",
      "bot2\n",
      "{'asset': 'BNB', 'free': '1.24866056', 'locked': '0.00000000'}\n",
      "{'asset': 'USDT', 'free': '0.96597993', 'locked': '0.00000000'}\n",
      "{'asset': 'BUSD', 'free': '51.49960000', 'locked': '0.00000000'}\n",
      "{'asset': 'HIGH', 'free': '418.45000000', 'locked': '0.00000000'}\n"
     ]
    }
   ],
   "source": [
    "# Balances > 0\n",
    "\n",
    "print('bot1')\n",
    "acc = bot1.account()['balances']\n",
    "for i in range( len(acc) ):\n",
    "  if float(acc[i]['free']) > 0 :\n",
    "    print(acc[i])\n",
    "\n",
    "print('bot2')\n",
    "acc = bot2.account()['balances']\n",
    "for i in range( len(acc) ):\n",
    "  if float(acc[i]['free']) > 0 :\n",
    "    print(acc[i])"
   ]
  },
  {
   "cell_type": "markdown",
   "metadata": {
    "id": "fWIC6GwYw67C"
   },
   "source": [
    "## createOrders"
   ]
  },
  {
   "cell_type": "code",
   "execution_count": 5,
   "metadata": {
    "colab": {
     "base_uri": "https://localhost:8080/"
    },
    "executionInfo": {
     "elapsed": 266,
     "status": "ok",
     "timestamp": 1668749642561,
     "user": {
      "displayName": "Александр Литвинов",
      "userId": "13946514427652999048"
     },
     "user_tz": -180
    },
    "id": "VsGExiB6wScu",
    "outputId": "fe9625bc-a559-440f-eda0-e0cfc47dc84c"
   },
   "outputs": [
    {
     "ename": "Exception",
     "evalue": "{\"code\":-2010,\"msg\":\"This action is disabled on this account.\"}",
     "output_type": "error",
     "traceback": [
      "\u001b[1;31m---------------------------------------------------------------------------\u001b[0m",
      "\u001b[1;31mException\u001b[0m                                 Traceback (most recent call last)",
      "\u001b[1;32m~\\AppData\\Local\\Temp\\2\\ipykernel_5136\\2989873656.py\u001b[0m in \u001b[0;36m<module>\u001b[1;34m\u001b[0m\n\u001b[0;32m      5\u001b[0m \u001b[1;31m#pair = 'DOGERUB'\u001b[0m\u001b[1;33m\u001b[0m\u001b[1;33m\u001b[0m\u001b[0m\n\u001b[0;32m      6\u001b[0m \u001b[1;33m\u001b[0m\u001b[0m\n\u001b[1;32m----> 7\u001b[1;33m bot2.createOrder(\n\u001b[0m\u001b[0;32m      8\u001b[0m       \u001b[0msymbol\u001b[0m        \u001b[1;33m=\u001b[0m \u001b[0mpair\u001b[0m\u001b[1;33m,\u001b[0m\u001b[1;33m\u001b[0m\u001b[1;33m\u001b[0m\u001b[0m\n\u001b[0;32m      9\u001b[0m       \u001b[1;31m#quantity      = rounds( qty * 0.9995, sett[ pair ]['lot_precision'] ),\u001b[0m\u001b[1;33m\u001b[0m\u001b[1;33m\u001b[0m\u001b[0m\n",
      "\u001b[1;32m~\\AppData\\Local\\Temp\\2\\ipykernel_5136\\1486528545.py\u001b[0m in \u001b[0;36mwrapper\u001b[1;34m(*args, **kwargs)\u001b[0m\n\u001b[0;32m     83\u001b[0m         \u001b[1;32mdef\u001b[0m \u001b[0mwrapper\u001b[0m\u001b[1;33m(\u001b[0m\u001b[1;33m*\u001b[0m\u001b[0margs\u001b[0m\u001b[1;33m,\u001b[0m \u001b[1;33m**\u001b[0m\u001b[0mkwargs\u001b[0m\u001b[1;33m)\u001b[0m\u001b[1;33m:\u001b[0m\u001b[1;33m\u001b[0m\u001b[1;33m\u001b[0m\u001b[0m\n\u001b[0;32m     84\u001b[0m             \u001b[0mkwargs\u001b[0m\u001b[1;33m.\u001b[0m\u001b[0mupdate\u001b[0m\u001b[1;33m(\u001b[0m\u001b[0mcommand\u001b[0m\u001b[1;33m=\u001b[0m\u001b[0mname\u001b[0m\u001b[1;33m)\u001b[0m\u001b[1;33m\u001b[0m\u001b[1;33m\u001b[0m\u001b[0m\n\u001b[1;32m---> 85\u001b[1;33m             \u001b[1;32mreturn\u001b[0m \u001b[0mself\u001b[0m\u001b[1;33m.\u001b[0m\u001b[0mcall_api\u001b[0m\u001b[1;33m(\u001b[0m\u001b[1;33m**\u001b[0m\u001b[0mkwargs\u001b[0m\u001b[1;33m)\u001b[0m\u001b[1;33m\u001b[0m\u001b[1;33m\u001b[0m\u001b[0m\n\u001b[0m\u001b[0;32m     86\u001b[0m         \u001b[1;32mreturn\u001b[0m \u001b[0mwrapper\u001b[0m\u001b[1;33m\u001b[0m\u001b[1;33m\u001b[0m\u001b[0m\n\u001b[0;32m     87\u001b[0m \u001b[1;33m\u001b[0m\u001b[0m\n",
      "\u001b[1;32m~\\AppData\\Local\\Temp\\2\\ipykernel_5136\\1486528545.py\u001b[0m in \u001b[0;36mcall_api\u001b[1;34m(self, **kwargs)\u001b[0m\n\u001b[0;32m    120\u001b[0m \u001b[1;33m\u001b[0m\u001b[0m\n\u001b[0;32m    121\u001b[0m         \u001b[1;32mif\u001b[0m \u001b[1;34m'code'\u001b[0m \u001b[1;32min\u001b[0m \u001b[0mresponse\u001b[0m\u001b[1;33m.\u001b[0m\u001b[0mtext\u001b[0m\u001b[1;33m:\u001b[0m\u001b[1;33m\u001b[0m\u001b[1;33m\u001b[0m\u001b[0m\n\u001b[1;32m--> 122\u001b[1;33m             \u001b[1;32mraise\u001b[0m \u001b[0mException\u001b[0m\u001b[1;33m(\u001b[0m\u001b[0mresponse\u001b[0m\u001b[1;33m.\u001b[0m\u001b[0mtext\u001b[0m\u001b[1;33m)\u001b[0m\u001b[1;33m\u001b[0m\u001b[1;33m\u001b[0m\u001b[0m\n\u001b[0m\u001b[0;32m    123\u001b[0m \u001b[1;33m\u001b[0m\u001b[0m\n\u001b[0;32m    124\u001b[0m         \u001b[1;32mreturn\u001b[0m \u001b[0mresponse\u001b[0m\u001b[1;33m.\u001b[0m\u001b[0mjson\u001b[0m\u001b[1;33m(\u001b[0m\u001b[1;33m)\u001b[0m\u001b[1;33m\u001b[0m\u001b[1;33m\u001b[0m\u001b[0m\n",
      "\u001b[1;31mException\u001b[0m: {\"code\":-2010,\"msg\":\"This action is disabled on this account.\"}"
     ]
    }
   ],
   "source": [
    "qty = 20\n",
    "#pair = base_usd\n",
    "#pair = b+q\n",
    "pair = 'HIGHBUSD'\n",
    "#pair = 'DOGERUB'\n",
    "\n",
    "bot2.createOrder(\n",
    "      symbol        = pair, \n",
    "      #quantity      = rounds( qty * 0.9995, sett[ pair ]['lot_precision'] ),\n",
    "      quoteOrderQty = rounds( qty * 0.9995, sett[ pair ]['lot_precision'] ),\n",
    "      recvWindow    = 5000, side = 'SELL', type  = 'MARKET'\n",
    "      )"
   ]
  },
  {
   "cell_type": "code",
   "execution_count": null,
   "metadata": {
    "id": "dnzSrZ11e1k8"
   },
   "outputs": [],
   "source": [
    "f = open('client_report.txt','w')\n",
    "\n",
    "f.write(str(client_report))\n",
    "\n",
    "f.close()"
   ]
  },
  {
   "cell_type": "markdown",
   "metadata": {
    "id": "URmir7TbF4eQ",
    "tags": []
   },
   "source": [
    "# START"
   ]
  },
  {
   "cell_type": "markdown",
   "metadata": {},
   "source": [
    "## End"
   ]
  },
  {
   "cell_type": "code",
   "execution_count": null,
   "metadata": {},
   "outputs": [],
   "source": []
  }
 ],
 "metadata": {
  "colab": {
   "collapsed_sections": [
    "7jaWbQ1Cm6XZ",
    "8ary4IMwFyEc",
    "ArwAZbKeHVY5"
   ],
   "provenance": [
    {
     "file_id": "1dd5qV6joByRS6sAmBXyxSsoQkYSpRcrK",
     "timestamp": 1668774520705
    },
    {
     "file_id": "12LlhdNBdyNByDuvT5p443cdkrxWatwID",
     "timestamp": 1668419834999
    }
   ],
   "toc_visible": true
  },
  "kernelspec": {
   "display_name": "Python 3 (ipykernel)",
   "language": "python",
   "name": "python3"
  },
  "language_info": {
   "codemirror_mode": {
    "name": "ipython",
    "version": 3
   },
   "file_extension": ".py",
   "mimetype": "text/x-python",
   "name": "python",
   "nbconvert_exporter": "python",
   "pygments_lexer": "ipython3",
   "version": "3.9.13"
  },
  "vscode": {
   "interpreter": {
    "hash": "a077222d77dfe082b8f1dd562ad70e458ac2ab76993a0b248ab0476e32e9e8dd"
   }
  }
 },
 "nbformat": 4,
 "nbformat_minor": 4
}
