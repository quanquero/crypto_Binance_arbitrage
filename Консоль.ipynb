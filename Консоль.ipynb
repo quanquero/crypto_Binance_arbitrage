{
 "cells": [
  {
   "cell_type": "code",
   "execution_count": 96,
   "id": "4b798d5f",
   "metadata": {
    "scrolled": true
   },
   "outputs": [],
   "source": [
    "#pip install import-ipynb"
   ]
  },
  {
   "cell_type": "code",
   "execution_count": 6,
   "id": "17e52b67",
   "metadata": {
    "scrolled": false
   },
   "outputs": [
    {
     "name": "stdout",
     "output_type": "stream",
     "text": [
      " b1_K: RJkmizoEV9LJipAbsqOEuKLk6wKwzDOdxKGfJx7TD8PxhtQmZSjP3nQkQXzxEGEN\n",
      " b1_S: LgYFFdLCXtHiJB80c0HHT0oWbtWzsWNFtaelZ6EedztKrukJmjYPhk0BFz5u1zDF\n",
      "\n",
      " b2_K: NTxq3UElmu3Sh8NZnp7kkZFejeua0UeAxFS112B5QXRc9Qd056lptSRJQFSNMGxD\n",
      " b2_S: Lx3PsUWcmAJd6KTYVudCY2KRIWwS6EcthvMSNhu6l0mPWAk25YwIzH9qYaYT3FnC\n",
      "\n",
      "bot1\n",
      "{'asset': 'BTC', 'free_usd': 3479.65, 'locked_usd': 0.0, 'free': 0, 'locked': 0}\n",
      "bot2\n"
     ]
    },
    {
     "ename": "Exception",
     "evalue": "{\"code\":-2015,\"msg\":\"Invalid API-key, IP, or permissions for action.\"}",
     "output_type": "error",
     "traceback": [
      "\u001b[1;31m---------------------------------------------------------------------------\u001b[0m",
      "\u001b[1;31mException\u001b[0m                                 Traceback (most recent call last)",
      "\u001b[1;32m~\\AppData\\Local\\Temp\\ipykernel_19340\\3840062455.py\u001b[0m in \u001b[0;36m<module>\u001b[1;34m\u001b[0m\n\u001b[0;32m     30\u001b[0m \u001b[0mprint\u001b[0m\u001b[1;33m(\u001b[0m\u001b[1;34m' b1_K: '\u001b[0m \u001b[1;33m+\u001b[0m \u001b[0mb1_API_KEY\u001b[0m \u001b[1;33m+\u001b[0m\u001b[1;34m'\\n b1_S: '\u001b[0m \u001b[1;33m+\u001b[0m \u001b[0mb1_API_SECRET\u001b[0m \u001b[1;33m+\u001b[0m \u001b[1;34m'\\n\\n b2_K: '\u001b[0m \u001b[1;33m+\u001b[0m \u001b[0mb2_API_KEY\u001b[0m \u001b[1;33m+\u001b[0m \u001b[1;34m'\\n b2_S: '\u001b[0m \u001b[1;33m+\u001b[0m \u001b[0mb2_API_SECRET\u001b[0m \u001b[1;33m+\u001b[0m\u001b[1;34m'\\n'\u001b[0m\u001b[1;33m)\u001b[0m\u001b[1;33m\u001b[0m\u001b[1;33m\u001b[0m\u001b[0m\n\u001b[0;32m     31\u001b[0m \u001b[0mget_ipython\u001b[0m\u001b[1;33m(\u001b[0m\u001b[1;33m)\u001b[0m\u001b[1;33m.\u001b[0m\u001b[0mrun_line_magic\u001b[0m\u001b[1;33m(\u001b[0m\u001b[1;34m'run'\u001b[0m\u001b[1;33m,\u001b[0m \u001b[1;34m'fn.ipynb'\u001b[0m\u001b[1;33m)\u001b[0m\u001b[1;33m\u001b[0m\u001b[1;33m\u001b[0m\u001b[0m\n\u001b[1;32m---> 32\u001b[1;33m \u001b[0mreport\u001b[0m\u001b[1;33m(\u001b[0m\u001b[0mb1_start\u001b[0m\u001b[1;33m,\u001b[0m \u001b[0mb2_start\u001b[0m\u001b[1;33m,\u001b[0m \u001b[0motdali\u001b[0m\u001b[1;33m)\u001b[0m\u001b[1;33m\u001b[0m\u001b[1;33m\u001b[0m\u001b[0m\n\u001b[0m",
      "\u001b[1;32m~\\AppData\\Local\\Temp\\ipykernel_19340\\1481517324.py\u001b[0m in \u001b[0;36mreport\u001b[1;34m(b1_start, b2_start, b2_)\u001b[0m\n\u001b[0;32m      7\u001b[0m     \u001b[0macc1\u001b[0m \u001b[1;33m=\u001b[0m \u001b[0mgetBalancesInUSD\u001b[0m\u001b[1;33m(\u001b[0m\u001b[0mbot1\u001b[0m\u001b[1;33m)\u001b[0m\u001b[1;33m\u001b[0m\u001b[1;33m\u001b[0m\u001b[0m\n\u001b[0;32m      8\u001b[0m     \u001b[0mprint\u001b[0m\u001b[1;33m(\u001b[0m\u001b[1;34m'bot2'\u001b[0m\u001b[1;33m)\u001b[0m\u001b[1;33m\u001b[0m\u001b[1;33m\u001b[0m\u001b[0m\n\u001b[1;32m----> 9\u001b[1;33m     \u001b[0macc2\u001b[0m \u001b[1;33m=\u001b[0m \u001b[0mgetBalancesInUSD\u001b[0m\u001b[1;33m(\u001b[0m\u001b[0mbot2\u001b[0m\u001b[1;33m)\u001b[0m\u001b[1;33m\u001b[0m\u001b[1;33m\u001b[0m\u001b[0m\n\u001b[0m\u001b[0;32m     10\u001b[0m \u001b[1;33m\u001b[0m\u001b[0m\n\u001b[0;32m     11\u001b[0m     \u001b[1;32mfor\u001b[0m \u001b[0mi\u001b[0m \u001b[1;32min\u001b[0m \u001b[0mrange\u001b[0m\u001b[1;33m(\u001b[0m \u001b[0mlen\u001b[0m\u001b[1;33m(\u001b[0m\u001b[0macc1\u001b[0m\u001b[1;33m)\u001b[0m \u001b[1;33m)\u001b[0m \u001b[1;33m:\u001b[0m\u001b[1;33m\u001b[0m\u001b[1;33m\u001b[0m\u001b[0m\n",
      "\u001b[1;32m~\\AppData\\Local\\Temp\\ipykernel_19340\\1412207342.py\u001b[0m in \u001b[0;36mgetBalancesInUSD\u001b[1;34m(bot)\u001b[0m\n\u001b[0;32m      2\u001b[0m \u001b[1;33m\u001b[0m\u001b[0m\n\u001b[0;32m      3\u001b[0m     \u001b[0mtBT\u001b[0m \u001b[1;33m=\u001b[0m \u001b[0mbot2\u001b[0m\u001b[1;33m.\u001b[0m\u001b[0mtickerBookTicker\u001b[0m\u001b[1;33m(\u001b[0m \u001b[1;33m)\u001b[0m\u001b[1;33m\u001b[0m\u001b[1;33m\u001b[0m\u001b[0m\n\u001b[1;32m----> 4\u001b[1;33m     \u001b[0macc\u001b[0m \u001b[1;33m=\u001b[0m \u001b[0mbot\u001b[0m\u001b[1;33m.\u001b[0m\u001b[0maccount\u001b[0m\u001b[1;33m(\u001b[0m\u001b[1;33m)\u001b[0m\u001b[1;33m[\u001b[0m\u001b[1;34m'balances'\u001b[0m\u001b[1;33m]\u001b[0m\u001b[1;33m\u001b[0m\u001b[1;33m\u001b[0m\u001b[0m\n\u001b[0m\u001b[0;32m      5\u001b[0m \u001b[1;33m\u001b[0m\u001b[0m\n\u001b[0;32m      6\u001b[0m     \u001b[0mres\u001b[0m \u001b[1;33m=\u001b[0m \u001b[1;33m[\u001b[0m\u001b[1;33m]\u001b[0m\u001b[1;33m\u001b[0m\u001b[1;33m\u001b[0m\u001b[0m\n",
      "\u001b[1;32m~\\AppData\\Local\\Temp\\ipykernel_19340\\1486528545.py\u001b[0m in \u001b[0;36mwrapper\u001b[1;34m(*args, **kwargs)\u001b[0m\n\u001b[0;32m     83\u001b[0m         \u001b[1;32mdef\u001b[0m \u001b[0mwrapper\u001b[0m\u001b[1;33m(\u001b[0m\u001b[1;33m*\u001b[0m\u001b[0margs\u001b[0m\u001b[1;33m,\u001b[0m \u001b[1;33m**\u001b[0m\u001b[0mkwargs\u001b[0m\u001b[1;33m)\u001b[0m\u001b[1;33m:\u001b[0m\u001b[1;33m\u001b[0m\u001b[1;33m\u001b[0m\u001b[0m\n\u001b[0;32m     84\u001b[0m             \u001b[0mkwargs\u001b[0m\u001b[1;33m.\u001b[0m\u001b[0mupdate\u001b[0m\u001b[1;33m(\u001b[0m\u001b[0mcommand\u001b[0m\u001b[1;33m=\u001b[0m\u001b[0mname\u001b[0m\u001b[1;33m)\u001b[0m\u001b[1;33m\u001b[0m\u001b[1;33m\u001b[0m\u001b[0m\n\u001b[1;32m---> 85\u001b[1;33m             \u001b[1;32mreturn\u001b[0m \u001b[0mself\u001b[0m\u001b[1;33m.\u001b[0m\u001b[0mcall_api\u001b[0m\u001b[1;33m(\u001b[0m\u001b[1;33m**\u001b[0m\u001b[0mkwargs\u001b[0m\u001b[1;33m)\u001b[0m\u001b[1;33m\u001b[0m\u001b[1;33m\u001b[0m\u001b[0m\n\u001b[0m\u001b[0;32m     86\u001b[0m         \u001b[1;32mreturn\u001b[0m \u001b[0mwrapper\u001b[0m\u001b[1;33m\u001b[0m\u001b[1;33m\u001b[0m\u001b[0m\n\u001b[0;32m     87\u001b[0m \u001b[1;33m\u001b[0m\u001b[0m\n",
      "\u001b[1;32m~\\AppData\\Local\\Temp\\ipykernel_19340\\1486528545.py\u001b[0m in \u001b[0;36mcall_api\u001b[1;34m(self, **kwargs)\u001b[0m\n\u001b[0;32m    120\u001b[0m \u001b[1;33m\u001b[0m\u001b[0m\n\u001b[0;32m    121\u001b[0m         \u001b[1;32mif\u001b[0m \u001b[1;34m'code'\u001b[0m \u001b[1;32min\u001b[0m \u001b[0mresponse\u001b[0m\u001b[1;33m.\u001b[0m\u001b[0mtext\u001b[0m\u001b[1;33m:\u001b[0m\u001b[1;33m\u001b[0m\u001b[1;33m\u001b[0m\u001b[0m\n\u001b[1;32m--> 122\u001b[1;33m             \u001b[1;32mraise\u001b[0m \u001b[0mException\u001b[0m\u001b[1;33m(\u001b[0m\u001b[0mresponse\u001b[0m\u001b[1;33m.\u001b[0m\u001b[0mtext\u001b[0m\u001b[1;33m)\u001b[0m\u001b[1;33m\u001b[0m\u001b[1;33m\u001b[0m\u001b[0m\n\u001b[0m\u001b[0;32m    123\u001b[0m \u001b[1;33m\u001b[0m\u001b[0m\n\u001b[0;32m    124\u001b[0m         \u001b[1;32mreturn\u001b[0m \u001b[0mresponse\u001b[0m\u001b[1;33m.\u001b[0m\u001b[0mjson\u001b[0m\u001b[1;33m(\u001b[0m\u001b[1;33m)\u001b[0m\u001b[1;33m\u001b[0m\u001b[1;33m\u001b[0m\u001b[0m\n",
      "\u001b[1;31mException\u001b[0m: {\"code\":-2015,\"msg\":\"Invalid API-key, IP, or permissions for action.\"}"
     ]
    }
   ],
   "source": [
    "# состояние перелива\n",
    "import import_ipynb\n",
    "F = 'A' # Выбрать букву счета и запустить\n",
    "\n",
    "if F == 'A' :\n",
    "    from A import b1_API_KEY, b1_API_SECRET, b2_API_KEY, b2_API_SECRET\n",
    "    b1_start= 5420; b2_start= 937-800; otdali= 1385+549; percent = 50 #    №42   937\n",
    "    #b1_start = 18200+1500; b2_start = 3936-1500   -1000-1766-1532  -2881-150-200 -500; otdali = 1766+1668+1532; percent = 65    #A\n",
    "if F == 'B' :\n",
    "    from Bt import b1_API_KEY, b1_API_SECRET, b2_API_KEY, b2_API_SECRET\n",
    "    b1_start= 5420; b2_start= 937-800; otdali= 1385+549; percent = 50 #    №42   937\n",
    "if F == 'N' :\n",
    "    from N import b1_API_KEY, b1_API_SECRET, b2_API_KEY, b2_API_SECRET\n",
    "    b1_start= 4616; b2_start= 1074-300-619-1259; otdali= 619+1259; percent = 60 #    №45\n",
    "if F == 'M' :\n",
    "    from M import b1_API_KEY, b1_API_SECRET, b2_API_KEY, b2_API_SECRET\n",
    "    #b1_start = 1548;   b2_start = 1206; otdali = 0; percent = 65  #  №37\n",
    "    #b1_start = 1196;   b2_start = 968; otdali = 306*0.95; percent = 55  #  №38\n",
    "    #b1_start = 3067;   b2_start = 1573; otdali = 0; percent = 65  #%?  №39\n",
    "    #b1_start = 656;   b2_start = 2226; otdali = 0; percent = 60  #  №40\n",
    "    #b1_start = 3690;   b2_start = 2108; otdali = 0; percent = 60  #  №40\n",
    "    b1_start = 5361;   b2_start = 720-250; otdali = 250; percent = 60  #  №44     720\n",
    "if F == 'K' :\n",
    "    from K import b1_API_KEY, b1_API_SECRET, b2_API_KEY, b2_API_SECRET\n",
    "    #b1_start = 320;   b2_start = 351; otdali = 0; percent = 50    №34\n",
    "    #b1_start = 520;   b2_start = 543; otdali = 133; percent = 50    №23\n",
    "    \n",
    "    \n",
    "\n",
    "print(' b1_K: ' + b1_API_KEY +'\\n b1_S: ' + b1_API_SECRET + '\\n\\n b2_K: ' + b2_API_KEY + '\\n b2_S: ' + b2_API_SECRET +'\\n')\n",
    "%run fn.ipynb\n",
    "report(b1_start, b2_start, otdali)"
   ]
  },
  {
   "cell_type": "code",
   "execution_count": 8,
   "id": "fcf89eeb",
   "metadata": {},
   "outputs": [
    {
     "name": "stdout",
     "output_type": "stream",
     "text": [
      "ab: BTCUSDT\n"
     ]
    },
    {
     "ename": "KeyError",
     "evalue": "'USDTBTC'",
     "output_type": "error",
     "traceback": [
      "\u001b[1;31m---------------------------------------------------------------------------\u001b[0m",
      "\u001b[1;31mException\u001b[0m                                 Traceback (most recent call last)",
      "\u001b[1;32m~\\AppData\\Local\\Temp\\ipykernel_19340\\1856942424.py\u001b[0m in \u001b[0;36matob\u001b[1;34m(bot, a, b, qty, qty_in_A_or_B)\u001b[0m\n\u001b[0;32m     14\u001b[0m         \u001b[1;32melse\u001b[0m \u001b[1;33m:\u001b[0m\u001b[1;33m\u001b[0m\u001b[1;33m\u001b[0m\u001b[0m\n\u001b[1;32m---> 15\u001b[1;33m             print(bot.createOrder(\n\u001b[0m\u001b[0;32m     16\u001b[0m             \u001b[0msymbol\u001b[0m        \u001b[1;33m=\u001b[0m \u001b[0mpair\u001b[0m\u001b[1;33m,\u001b[0m\u001b[1;33m\u001b[0m\u001b[1;33m\u001b[0m\u001b[0m\n",
      "\u001b[1;32m~\\AppData\\Local\\Temp\\ipykernel_19340\\1486528545.py\u001b[0m in \u001b[0;36mwrapper\u001b[1;34m(*args, **kwargs)\u001b[0m\n\u001b[0;32m     84\u001b[0m             \u001b[0mkwargs\u001b[0m\u001b[1;33m.\u001b[0m\u001b[0mupdate\u001b[0m\u001b[1;33m(\u001b[0m\u001b[0mcommand\u001b[0m\u001b[1;33m=\u001b[0m\u001b[0mname\u001b[0m\u001b[1;33m)\u001b[0m\u001b[1;33m\u001b[0m\u001b[1;33m\u001b[0m\u001b[0m\n\u001b[1;32m---> 85\u001b[1;33m             \u001b[1;32mreturn\u001b[0m \u001b[0mself\u001b[0m\u001b[1;33m.\u001b[0m\u001b[0mcall_api\u001b[0m\u001b[1;33m(\u001b[0m\u001b[1;33m**\u001b[0m\u001b[0mkwargs\u001b[0m\u001b[1;33m)\u001b[0m\u001b[1;33m\u001b[0m\u001b[1;33m\u001b[0m\u001b[0m\n\u001b[0m\u001b[0;32m     86\u001b[0m         \u001b[1;32mreturn\u001b[0m \u001b[0mwrapper\u001b[0m\u001b[1;33m\u001b[0m\u001b[1;33m\u001b[0m\u001b[0m\n",
      "\u001b[1;32m~\\AppData\\Local\\Temp\\ipykernel_19340\\1486528545.py\u001b[0m in \u001b[0;36mcall_api\u001b[1;34m(self, **kwargs)\u001b[0m\n\u001b[0;32m    121\u001b[0m         \u001b[1;32mif\u001b[0m \u001b[1;34m'code'\u001b[0m \u001b[1;32min\u001b[0m \u001b[0mresponse\u001b[0m\u001b[1;33m.\u001b[0m\u001b[0mtext\u001b[0m\u001b[1;33m:\u001b[0m\u001b[1;33m\u001b[0m\u001b[1;33m\u001b[0m\u001b[0m\n\u001b[1;32m--> 122\u001b[1;33m             \u001b[1;32mraise\u001b[0m \u001b[0mException\u001b[0m\u001b[1;33m(\u001b[0m\u001b[0mresponse\u001b[0m\u001b[1;33m.\u001b[0m\u001b[0mtext\u001b[0m\u001b[1;33m)\u001b[0m\u001b[1;33m\u001b[0m\u001b[1;33m\u001b[0m\u001b[0m\n\u001b[0m\u001b[0;32m    123\u001b[0m \u001b[1;33m\u001b[0m\u001b[0m\n",
      "\u001b[1;31mException\u001b[0m: {\"code\":-2015,\"msg\":\"Invalid API-key, IP, or permissions for action.\"}",
      "\nDuring handling of the above exception, another exception occurred:\n",
      "\u001b[1;31mKeyError\u001b[0m                                  Traceback (most recent call last)",
      "\u001b[1;32m~\\AppData\\Local\\Temp\\ipykernel_19340\\2523313157.py\u001b[0m in \u001b[0;36m<module>\u001b[1;34m\u001b[0m\n\u001b[0;32m      1\u001b[0m \u001b[1;31m# конвертируем из токена A в токен B\u001b[0m\u001b[1;33m\u001b[0m\u001b[1;33m\u001b[0m\u001b[0m\n\u001b[0;32m      2\u001b[0m \u001b[1;33m\u001b[0m\u001b[0m\n\u001b[1;32m----> 3\u001b[1;33m \u001b[0matob\u001b[0m\u001b[1;33m(\u001b[0m\u001b[0mbot1\u001b[0m\u001b[1;33m,\u001b[0m \u001b[1;34m'BTC'\u001b[0m\u001b[1;33m,\u001b[0m \u001b[1;34m'USDT'\u001b[0m\u001b[1;33m,\u001b[0m \u001b[1;36m20\u001b[0m\u001b[1;33m,\u001b[0m \u001b[1;34m'b'\u001b[0m\u001b[1;33m)\u001b[0m\u001b[1;33m\u001b[0m\u001b[1;33m\u001b[0m\u001b[0m\n\u001b[0m\u001b[0;32m      4\u001b[0m \u001b[1;33m\u001b[0m\u001b[0m\n\u001b[0;32m      5\u001b[0m \u001b[1;31m#atob(bot1, a= 'USDT', b= 'BUSD', qty= 40, qty_in_A_or_B= 'a')  # N\u001b[0m\u001b[1;33m\u001b[0m\u001b[1;33m\u001b[0m\u001b[0m\n",
      "\u001b[1;32m~\\AppData\\Local\\Temp\\ipykernel_19340\\1856942424.py\u001b[0m in \u001b[0;36matob\u001b[1;34m(bot, a, b, qty, qty_in_A_or_B)\u001b[0m\n\u001b[0;32m     20\u001b[0m     \u001b[1;32mexcept\u001b[0m \u001b[1;33m:\u001b[0m\u001b[1;33m\u001b[0m\u001b[1;33m\u001b[0m\u001b[0m\n\u001b[0;32m     21\u001b[0m         \u001b[0mpair\u001b[0m \u001b[1;33m=\u001b[0m \u001b[0mb\u001b[0m\u001b[1;33m+\u001b[0m\u001b[0ma\u001b[0m\u001b[1;33m\u001b[0m\u001b[1;33m\u001b[0m\u001b[0m\n\u001b[1;32m---> 22\u001b[1;33m         \u001b[0msett\u001b[0m\u001b[1;33m[\u001b[0m \u001b[0mpair\u001b[0m \u001b[1;33m]\u001b[0m\u001b[1;33m;\u001b[0m\u001b[1;33m\u001b[0m\u001b[1;33m\u001b[0m\u001b[0m\n\u001b[0m\u001b[0;32m     23\u001b[0m         \u001b[0mprint\u001b[0m\u001b[1;33m(\u001b[0m\u001b[1;34m'ba:'\u001b[0m\u001b[1;33m,\u001b[0m \u001b[0mpair\u001b[0m\u001b[1;33m)\u001b[0m\u001b[1;33m\u001b[0m\u001b[1;33m\u001b[0m\u001b[0m\n\u001b[0;32m     24\u001b[0m \u001b[1;33m\u001b[0m\u001b[0m\n",
      "\u001b[1;31mKeyError\u001b[0m: 'USDTBTC'"
     ]
    }
   ],
   "source": [
    "# конвертируем из токена A в токен B \n",
    "\n",
    "atob(bot1, 'BTC', 'USDT', 20, 'b')  \n",
    "\n",
    "#atob(bot1, a= 'USDT', b= 'BUSD', qty= 40, qty_in_A_or_B= 'a')  # N"
   ]
  },
  {
   "cell_type": "code",
   "execution_count": 149,
   "id": "2671b824",
   "metadata": {
    "scrolled": false
   },
   "outputs": [
    {
     "name": "stdout",
     "output_type": "stream",
     "text": [
      "FTMRUB {'s%': 1.15, '    s': 47, '    s/%': 41, '    id': 1706}\n",
      "ALGORUB {'s%': 1.44, '    s': 26, '    s/%': 18, '    id': 1727}\n",
      "FLOWBNB {'s%': 1.0, '    s': 35, '    s/%': 35, '    id': 1553}\n",
      "ALICEBNB {'s%': 1.35, '    s': 78, '    s/%': 58, '    id': 1866}\n",
      "FUNBNB {'s%': 1.39, '    s': 31, '    s/%': 22, '    id': 2010}\n",
      "GALBNB {'s%': 1.02, '    s': 78, '    s/%': 76, '    id': 2030}\n",
      "DOCKBUSD {'s%': 0.71, '    s': 14, '    s/%': 20, '    id': 1502}\n",
      "ERNBUSD {'s%': 0.4, '    s': 10, '    s/%': 25, '    id': 1505}\n",
      "TROYBUSD {'s%': 0.4, '    s': 13, '    s/%': 32, '    id': 1686}\n",
      "QKCBUSD {'s%': 0.44, '    s': 46, '    s/%': 105, '    id': 2119}\n"
     ]
    }
   ],
   "source": [
    "# поиск спрэдовых окон\n",
    "find_pairs_by_spread( '', 'RUB', 1.0, 10)\n",
    "find_pairs_by_spread( '', 'BNB', 1.0, 10)\n",
    "find_pairs_by_spread( '', 'BUSD', 0.4, 10)\n",
    "#VOXELBNB {'s%': 2.0, '    s': 137, '    s/%': 68, '    id': 1822}"
   ]
  },
  {
   "cell_type": "code",
   "execution_count": 70,
   "id": "3b146464",
   "metadata": {},
   "outputs": [
    {
     "name": "stdout",
     "output_type": "stream",
     "text": [
      "ZRXETH {'s%': 1.08, '    s': 16, '    s/%': 15, '    id': 28}\n",
      "MTLETH {'s%': 1.05, '    s': 65, '    s/%': 62, '    id': 53}\n",
      "ERNBNB {'s%': 1.56, '    s': 11, '    s/%': 7, '    id': 1504}\n",
      "AXSBIDR {'s%': 1.31, '    s': 2290, '    s/%': 1748, '    id': 1620}\n",
      "ALGORUB {'s%': 1.49, '    s': 27, '    s/%': 18, '    id': 1727}\n",
      "HIGHBNB {'s%': 1.01, '    s': 45, '    s/%': 45, '    id': 1901}\n",
      "JASMYEUR {'s%': 1.54, '    s': 77, '    s/%': 50, '    id': 2032}\n",
      "GALBRL {'s%': 1.21, '    s': 14, '    s/%': 12, '    id': 2049}\n",
      "OPBNB {'s%': 1.05, '    s': 76, '    s/%': 72, '    id': 2066}\n",
      "BONDETH {'s%': 1.45, '    s': 45, '    s/%': 31, '    id': 2078}\n"
     ]
    }
   ],
   "source": [
    "find_pairs_by_spread( '', '', 1.0, 10)"
   ]
  },
  {
   "cell_type": "code",
   "execution_count": 44,
   "id": "8bffe5a1",
   "metadata": {},
   "outputs": [],
   "source": [
    "# отмена любых открытых ордеров\n",
    "cancel_orders(bot1)\n",
    "cancel_orders(bot2)"
   ]
  },
  {
   "cell_type": "code",
   "execution_count": 7,
   "id": "5d9e82ca",
   "metadata": {},
   "outputs": [
    {
     "name": "stdout",
     "output_type": "stream",
     "text": [
      "bot1\n",
      "{'asset': 'BTC', 'free': '0.14604718', 'locked': '0.00000000'}\n",
      "bot2\n"
     ]
    },
    {
     "ename": "Exception",
     "evalue": "{\"code\":-2015,\"msg\":\"Invalid API-key, IP, or permissions for action.\"}",
     "output_type": "error",
     "traceback": [
      "\u001b[1;31m---------------------------------------------------------------------------\u001b[0m",
      "\u001b[1;31mException\u001b[0m                                 Traceback (most recent call last)",
      "\u001b[1;32m~\\AppData\\Local\\Temp\\ipykernel_19340\\2273924992.py\u001b[0m in \u001b[0;36m<module>\u001b[1;34m\u001b[0m\n\u001b[0;32m      8\u001b[0m \u001b[1;33m\u001b[0m\u001b[0m\n\u001b[0;32m      9\u001b[0m \u001b[0mprint\u001b[0m\u001b[1;33m(\u001b[0m\u001b[1;34m'bot2'\u001b[0m\u001b[1;33m)\u001b[0m\u001b[1;33m\u001b[0m\u001b[1;33m\u001b[0m\u001b[0m\n\u001b[1;32m---> 10\u001b[1;33m \u001b[0macc\u001b[0m \u001b[1;33m=\u001b[0m \u001b[0mbot2\u001b[0m\u001b[1;33m.\u001b[0m\u001b[0maccount\u001b[0m\u001b[1;33m(\u001b[0m\u001b[1;33m)\u001b[0m\u001b[1;33m[\u001b[0m\u001b[1;34m'balances'\u001b[0m\u001b[1;33m]\u001b[0m\u001b[1;33m\u001b[0m\u001b[1;33m\u001b[0m\u001b[0m\n\u001b[0m\u001b[0;32m     11\u001b[0m \u001b[1;32mfor\u001b[0m \u001b[0mi\u001b[0m \u001b[1;32min\u001b[0m \u001b[0mrange\u001b[0m\u001b[1;33m(\u001b[0m \u001b[0mlen\u001b[0m\u001b[1;33m(\u001b[0m\u001b[0macc\u001b[0m\u001b[1;33m)\u001b[0m \u001b[1;33m)\u001b[0m\u001b[1;33m:\u001b[0m\u001b[1;33m\u001b[0m\u001b[1;33m\u001b[0m\u001b[0m\n\u001b[0;32m     12\u001b[0m   \u001b[1;32mif\u001b[0m \u001b[0mfloat\u001b[0m\u001b[1;33m(\u001b[0m\u001b[0macc\u001b[0m\u001b[1;33m[\u001b[0m\u001b[0mi\u001b[0m\u001b[1;33m]\u001b[0m\u001b[1;33m[\u001b[0m\u001b[1;34m'free'\u001b[0m\u001b[1;33m]\u001b[0m\u001b[1;33m)\u001b[0m \u001b[1;33m>\u001b[0m \u001b[1;36m0\u001b[0m \u001b[1;33m:\u001b[0m\u001b[1;33m\u001b[0m\u001b[1;33m\u001b[0m\u001b[0m\n",
      "\u001b[1;32m~\\AppData\\Local\\Temp\\ipykernel_19340\\1486528545.py\u001b[0m in \u001b[0;36mwrapper\u001b[1;34m(*args, **kwargs)\u001b[0m\n\u001b[0;32m     83\u001b[0m         \u001b[1;32mdef\u001b[0m \u001b[0mwrapper\u001b[0m\u001b[1;33m(\u001b[0m\u001b[1;33m*\u001b[0m\u001b[0margs\u001b[0m\u001b[1;33m,\u001b[0m \u001b[1;33m**\u001b[0m\u001b[0mkwargs\u001b[0m\u001b[1;33m)\u001b[0m\u001b[1;33m:\u001b[0m\u001b[1;33m\u001b[0m\u001b[1;33m\u001b[0m\u001b[0m\n\u001b[0;32m     84\u001b[0m             \u001b[0mkwargs\u001b[0m\u001b[1;33m.\u001b[0m\u001b[0mupdate\u001b[0m\u001b[1;33m(\u001b[0m\u001b[0mcommand\u001b[0m\u001b[1;33m=\u001b[0m\u001b[0mname\u001b[0m\u001b[1;33m)\u001b[0m\u001b[1;33m\u001b[0m\u001b[1;33m\u001b[0m\u001b[0m\n\u001b[1;32m---> 85\u001b[1;33m             \u001b[1;32mreturn\u001b[0m \u001b[0mself\u001b[0m\u001b[1;33m.\u001b[0m\u001b[0mcall_api\u001b[0m\u001b[1;33m(\u001b[0m\u001b[1;33m**\u001b[0m\u001b[0mkwargs\u001b[0m\u001b[1;33m)\u001b[0m\u001b[1;33m\u001b[0m\u001b[1;33m\u001b[0m\u001b[0m\n\u001b[0m\u001b[0;32m     86\u001b[0m         \u001b[1;32mreturn\u001b[0m \u001b[0mwrapper\u001b[0m\u001b[1;33m\u001b[0m\u001b[1;33m\u001b[0m\u001b[0m\n\u001b[0;32m     87\u001b[0m \u001b[1;33m\u001b[0m\u001b[0m\n",
      "\u001b[1;32m~\\AppData\\Local\\Temp\\ipykernel_19340\\1486528545.py\u001b[0m in \u001b[0;36mcall_api\u001b[1;34m(self, **kwargs)\u001b[0m\n\u001b[0;32m    120\u001b[0m \u001b[1;33m\u001b[0m\u001b[0m\n\u001b[0;32m    121\u001b[0m         \u001b[1;32mif\u001b[0m \u001b[1;34m'code'\u001b[0m \u001b[1;32min\u001b[0m \u001b[0mresponse\u001b[0m\u001b[1;33m.\u001b[0m\u001b[0mtext\u001b[0m\u001b[1;33m:\u001b[0m\u001b[1;33m\u001b[0m\u001b[1;33m\u001b[0m\u001b[0m\n\u001b[1;32m--> 122\u001b[1;33m             \u001b[1;32mraise\u001b[0m \u001b[0mException\u001b[0m\u001b[1;33m(\u001b[0m\u001b[0mresponse\u001b[0m\u001b[1;33m.\u001b[0m\u001b[0mtext\u001b[0m\u001b[1;33m)\u001b[0m\u001b[1;33m\u001b[0m\u001b[1;33m\u001b[0m\u001b[0m\n\u001b[0m\u001b[0;32m    123\u001b[0m \u001b[1;33m\u001b[0m\u001b[0m\n\u001b[0;32m    124\u001b[0m         \u001b[1;32mreturn\u001b[0m \u001b[0mresponse\u001b[0m\u001b[1;33m.\u001b[0m\u001b[0mjson\u001b[0m\u001b[1;33m(\u001b[0m\u001b[1;33m)\u001b[0m\u001b[1;33m\u001b[0m\u001b[1;33m\u001b[0m\u001b[0m\n",
      "\u001b[1;31mException\u001b[0m: {\"code\":-2015,\"msg\":\"Invalid API-key, IP, or permissions for action.\"}"
     ]
    }
   ],
   "source": [
    "# Balances > 0\n",
    "\n",
    "print('bot1')\n",
    "acc = bot1.account()['balances']\n",
    "for i in range( len(acc) ):\n",
    "  if float(acc[i]['free']) > 0 :\n",
    "    print(acc[i])\n",
    "\n",
    "print('bot2')\n",
    "acc = bot2.account()['balances']\n",
    "for i in range( len(acc) ):\n",
    "  if float(acc[i]['free']) > 0 :\n",
    "    print(acc[i])"
   ]
  },
  {
   "cell_type": "code",
   "execution_count": 25,
   "id": "56863d86",
   "metadata": {},
   "outputs": [],
   "source": []
  },
  {
   "cell_type": "code",
   "execution_count": 47,
   "id": "b86991fb",
   "metadata": {
    "scrolled": true
   },
   "outputs": [
    {
     "data": {
      "text/plain": [
       "{'id': 673,\n",
       " 'tickSize': 0.01,\n",
       " 'lot_size': '1.00000000',\n",
       " 'price_precision': 2,\n",
       " 'lot_precision': 0,\n",
       " 'quote_lot_precision': 8,\n",
       " 'status': 'TRADING',\n",
       " 'baseAsset': 'BUSD',\n",
       " 'quoteAsset': 'RUB',\n",
       " 'eI': {'symbol': 'BUSDRUB',\n",
       "  'status': 'TRADING',\n",
       "  'baseAsset': 'BUSD',\n",
       "  'baseAssetPrecision': 8,\n",
       "  'quoteAsset': 'RUB',\n",
       "  'quotePrecision': 8,\n",
       "  'quoteAssetPrecision': 8,\n",
       "  'baseCommissionPrecision': 8,\n",
       "  'quoteCommissionPrecision': 8,\n",
       "  'orderTypes': ['LIMIT',\n",
       "   'LIMIT_MAKER',\n",
       "   'MARKET',\n",
       "   'STOP_LOSS_LIMIT',\n",
       "   'TAKE_PROFIT_LIMIT'],\n",
       "  'icebergAllowed': True,\n",
       "  'ocoAllowed': True,\n",
       "  'quoteOrderQtyMarketAllowed': True,\n",
       "  'allowTrailingStop': True,\n",
       "  'cancelReplaceAllowed': True,\n",
       "  'isSpotTradingAllowed': True,\n",
       "  'isMarginTradingAllowed': False,\n",
       "  'filters': [{'filterType': 'PRICE_FILTER',\n",
       "    'minPrice': '0.01000000',\n",
       "    'maxPrice': '10000.00000000',\n",
       "    'tickSize': '0.01000000'},\n",
       "   {'filterType': 'LOT_SIZE',\n",
       "    'minQty': '1.00000000',\n",
       "    'maxQty': '9222449.00000000',\n",
       "    'stepSize': '1.00000000'},\n",
       "   {'filterType': 'MIN_NOTIONAL',\n",
       "    'minNotional': '100.00000000',\n",
       "    'applyToMarket': True,\n",
       "    'avgPriceMins': 5},\n",
       "   {'filterType': 'ICEBERG_PARTS', 'limit': 10},\n",
       "   {'filterType': 'MARKET_LOT_SIZE',\n",
       "    'minQty': '0.00000000',\n",
       "    'maxQty': '303328.58472222',\n",
       "    'stepSize': '0.00000000'},\n",
       "   {'filterType': 'TRAILING_DELTA',\n",
       "    'minTrailingAboveDelta': 10,\n",
       "    'maxTrailingAboveDelta': 2000,\n",
       "    'minTrailingBelowDelta': 10,\n",
       "    'maxTrailingBelowDelta': 2000},\n",
       "   {'filterType': 'PERCENT_PRICE_BY_SIDE',\n",
       "    'bidMultiplierUp': '1.2',\n",
       "    'bidMultiplierDown': '0.8',\n",
       "    'askMultiplierUp': '1.2',\n",
       "    'askMultiplierDown': '0.8',\n",
       "    'avgPriceMins': 5},\n",
       "   {'filterType': 'MAX_NUM_ORDERS', 'maxNumOrders': 200},\n",
       "   {'filterType': 'MAX_NUM_ALGO_ORDERS', 'maxNumAlgoOrders': 5}],\n",
       "  'permissions': ['SPOT'],\n",
       "  'defaultSelfTradePreventionMode': 'NONE',\n",
       "  'allowedSelfTradePreventionModes': ['NONE',\n",
       "   'EXPIRE_TAKER',\n",
       "   'EXPIRE_MAKER',\n",
       "   'EXPIRE_BOTH']}}"
      ]
     },
     "execution_count": 47,
     "metadata": {},
     "output_type": "execute_result"
    }
   ],
   "source": [
    "# вбивает название пары и смотрим есть ли такая\n",
    "sett['BUSDRUB']\n"
   ]
  },
  {
   "cell_type": "markdown",
   "id": "30cf1823",
   "metadata": {},
   "source": [
    "## Ping"
   ]
  },
  {
   "cell_type": "code",
   "execution_count": null,
   "id": "348df871",
   "metadata": {},
   "outputs": [],
   "source": [
    "start_time = time.time()\n",
    "print(bot2.ping())\n",
    "print(\"--- %s seconds ---\" % (time.time() - start_time))"
   ]
  },
  {
   "cell_type": "markdown",
   "id": "a84c33b4",
   "metadata": {},
   "source": [
    "## Распродать BNB"
   ]
  },
  {
   "cell_type": "code",
   "execution_count": null,
   "id": "f4760f38",
   "metadata": {},
   "outputs": [],
   "source": [
    "# Распродать BNB\n",
    "bal = get_balances()\n",
    "\n",
    "qty = bal['bot1']['BNB']\n",
    "#pair = base_usd\n",
    "pair = 'BNBBUSD'\n",
    "\n",
    "try :\n",
    "  bot1.createOrder(\n",
    "      symbol        = pair, \n",
    "      quantity      = rounds( qty * 0.9995, sett[ pair ]['lot_precision'] ),\n",
    "      #quoteOrderQty = roundx( qty * 0.9995, sett[ pair ]['lot_precision'] ),\n",
    "      recvWindow    = 5000, side = 'SELL', type  = 'MARKET'\n",
    "  )\n",
    "except : # если не получилось распродать, то прикупить немного\n",
    "  qty = 0.05\n",
    "  bot1.createOrder(\n",
    "      symbol        = pair, \n",
    "      quantity      = rounds( qty * 0.9995, sett[ pair ]['lot_precision'] ),\n",
    "      #quoteOrderQty = roundx( qty * 0.9995, sett[ pair ]['lot_precision'] ),\n",
    "      recvWindow    = 5000, side = 'BUY', type  = 'MARKET'  \n",
    "  )\n",
    "\n",
    "  bal = get_balances()\n",
    "\n",
    "  qty = bal['bot1']['BNB']\n",
    "  bot1.createOrder( # Распродать BNB\n",
    "      symbol        = pair, \n",
    "      quantity      = rounds( qty * 0.9995, sett[ pair ]['lot_precision'] ),\n",
    "      #quoteOrderQty = roundx( qty * 0.9995, sett[ pair ]['lot_precision'] ),\n",
    "      recvWindow    = 5000, side = 'SELL', type  = 'MARKET'\n",
    "      )"
   ]
  },
  {
   "cell_type": "markdown",
   "id": "7eb09a95",
   "metadata": {},
   "source": [
    "## Остатки"
   ]
  },
  {
   "cell_type": "code",
   "execution_count": null,
   "id": "77f33488",
   "metadata": {},
   "outputs": [],
   "source": [
    "# Просмотр истории торговли\n",
    "bot1.myTrades(symbol='USDTRUB')\n",
    "#bot1.depositAddress()\n",
    "\n",
    "eI = bot1.exchangeInfo()['symbols'] # Настройки и лимиты биржи\n",
    "\n",
    "for j in range( len(eI) ) : # перебираем все настройки биржи по парам\n",
    "\n",
    "  smb = eI[j]['symbol'] # название торговой пары\n",
    "  print(j, '   ',bot1.myTrades(symbol=smb))\n",
    "  time.sleep(0.2)"
   ]
  },
  {
   "cell_type": "code",
   "execution_count": 18,
   "id": "50633084",
   "metadata": {},
   "outputs": [
    {
     "data": {
      "text/plain": [
       "[]"
      ]
     },
     "execution_count": 18,
     "metadata": {},
     "output_type": "execute_result"
    }
   ],
   "source": [
    "oo = bot2.openOrders()\n",
    "oo"
   ]
  },
  {
   "cell_type": "code",
   "execution_count": null,
   "id": "d2fa5c4e",
   "metadata": {},
   "outputs": [],
   "source": [
    "# Сжатая история сделок\n",
    "smb = 'HARDBUSD'\n",
    "start_id = 0\n",
    "aTr = []\n",
    "aT = []\n",
    "while True :\n",
    "    print(start_id)\n",
    "    aT = bot1.aggTrades(\n",
    "    symbol= smb, # пара\n",
    "    limit=500, # Кол-во записей (максимум 500, по умолчанию 500)\n",
    "    fromID= start_id # показывать начиная со сделки № (включительно)\n",
    "    #startTime=0 # начиная с какого времени (включительно)\n",
    "    #endTime # заканчивая каким временем (включительно)\n",
    "    )\n",
    "    \n",
    "   #aTr = [0]*len(aT)\n",
    "    for i in range(len(aT)):\n",
    "        aTr.append([ aT[i]['a'], ms_to_dt(aT[i]['T']), aT[i]['q'], smb   ])\n",
    "        #print( 'b1', aT[i]['a'], ';', ms_to_dt(aT[i]['T']), ';', aT[i]['q'], ';', smb)\n",
    "     \n",
    "    time.sleep(0.5)\n",
    "    start_id = start_id+500\n",
    "    if len(aT) < 500 :\n",
    "        break\n",
    "    \n",
    "\n",
    "    \n",
    "'''\n",
    "[{\n",
    "    \"a\": 26129,         //  tradeId строки\n",
    "    \"p\": \"0.01633102\",  // Цена\n",
    "    \"q\": \"4.70443515\",  // Количество\n",
    "    \"f\": 27781,         // Первая tradeId\n",
    "    \"l\": 27781,         // Последняя tradeId\n",
    "    \"T\": 1498793709153, // Время\n",
    "    \"m\": true,          // Was the buyer the maker?\n",
    "    \"M\": true           // Was the trade the best price match?\n",
    "  }]\n",
    "'''"
   ]
  },
  {
   "cell_type": "code",
   "execution_count": null,
   "id": "2156cac9",
   "metadata": {},
   "outputs": [],
   "source": [
    "aTr"
   ]
  },
  {
   "cell_type": "code",
   "execution_count": 33,
   "id": "755a334c",
   "metadata": {},
   "outputs": [
    {
     "name": "stdout",
     "output_type": "stream",
     "text": [
      "myTrades []\n"
     ]
    }
   ],
   "source": [
    "# Список сделок пользователя\n",
    "print('myTrades', bot1.myTrades(\n",
    "    symbol='BNBBTC',\n",
    "    limit=500\n",
    "))"
   ]
  },
  {
   "cell_type": "code",
   "execution_count": 34,
   "id": "d9aa8b3c",
   "metadata": {},
   "outputs": [
    {
     "name": "stdout",
     "output_type": "stream",
     "text": [
      "allOrders []\n"
     ]
    }
   ],
   "source": [
    "# Все ордера пользователя вообще\n",
    "# Все ордера по паре\n",
    "print('allOrders', bot1.allOrders(\n",
    "    symbol='BNBBTC',\n",
    "    limit=500\n",
    "))"
   ]
  },
  {
   "cell_type": "code",
   "execution_count": 60,
   "id": "4c87658e",
   "metadata": {},
   "outputs": [
    {
     "data": {
      "text/plain": [
       "'31.01.2023 09:22'"
      ]
     },
     "execution_count": 60,
     "metadata": {},
     "output_type": "execute_result"
    }
   ],
   "source": [
    "import datetime\n",
    "ms = 1675156941309\n",
    "def ms_to_dt(ms):\n",
    "    dt = datetime.datetime.fromtimestamp(ms/1000)\n",
    "    t = dt.strftime(\"%d.%m.%Y %H:%M\")\n",
    "    return t\n",
    "\n",
    "ms_to_dt(ms)"
   ]
  }
 ],
 "metadata": {
  "kernelspec": {
   "display_name": "base",
   "language": "python",
   "name": "python3"
  },
  "language_info": {
   "codemirror_mode": {
    "name": "ipython",
    "version": 3
   },
   "file_extension": ".py",
   "mimetype": "text/x-python",
   "name": "python",
   "nbconvert_exporter": "python",
   "pygments_lexer": "ipython3",
   "version": "3.9.13"
  },
  "vscode": {
   "interpreter": {
    "hash": "a077222d77dfe082b8f1dd562ad70e458ac2ab76993a0b248ab0476e32e9e8dd"
   }
  }
 },
 "nbformat": 4,
 "nbformat_minor": 5
}
