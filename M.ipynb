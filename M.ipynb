{
 "cells": [
  {
   "cell_type": "markdown",
   "metadata": {
    "id": "eWhfHTUnzRzu"
   },
   "source": [
    "# Методы"
   ]
  },
  {
   "cell_type": "markdown",
   "metadata": {
    "id": "6xps6kSViogq",
    "tags": []
   },
   "source": [
    "## Keys"
   ]
  },
  {
   "cell_type": "code",
   "execution_count": 1,
   "metadata": {},
   "outputs": [],
   "source": [
    "#1 кошелек, откуда переливаем\n",
    "\n",
    "b1_API_KEY='KkDkjgzhShccJMkurhcb2814rLMPT6b6hy3gwA1D4ayiTfn7Yvyn2Td6yLsSkieh';  N=44; percent=50\n",
    "b1_API_SECRET='4OUptIF8AQiX9rccIVU1tyUVxq3ZRNsG6AYcEJGbEo4hiyHGfNH7wtFpHO5nNqeU' #29.01.23\n",
    "\n",
    "# кошелек, куда переливаем\n",
    "    # мамин ак\n",
    "b2_API_KEY='M3QxGidfeS87LAeP3gEwvw3dlR7A5NEMKc4SRbG5CqE487DR8SdsH3w9URTDw2DR'\n",
    "b2_API_SECRET='lyKDwGnzNE3GFQHNVhsVWeiezp9dRpxhXdVCAkDiW6IIHqDnzAa8g79dxeVRNctn' \n",
    "\n",
    "%run fn.ipynb"
   ]
  },
  {
   "cell_type": "code",
   "execution_count": 2,
   "metadata": {
    "colab": {
     "base_uri": "https://localhost:8080/"
    },
    "executionInfo": {
     "elapsed": 375,
     "status": "ok",
     "timestamp": 1669822340180,
     "user": {
      "displayName": "Александр Литвинов",
      "userId": "13946514427652999048"
     },
     "user_tz": -180
    },
    "id": "5vFSPcPhXmXn",
    "outputId": "257ddbc4-34a4-4c2a-eb37-193523b294da"
   },
   "outputs": [
    {
     "name": "stdout",
     "output_type": "stream",
     "text": [
      "base_quote: C98BRL\n",
      "base_usd: C98BUSD True\n",
      "usd_quote: BUSDBRL False\n"
     ]
    }
   ],
   "source": [
    "#3 подготовка параметров для торговли  \n",
    "min_spread_in_percent = 1.45\n",
    "\n",
    "b = 'C98'; # 2/10\n",
    "q = 'BRL'; u = 'BUSD'\n",
    "\n",
    "\n",
    "\n",
    "#------------------\n",
    "Work_usd  = 90 # количество USD для работы\n",
    "usd_min   = 25\n",
    "kb = 0.98\n",
    "#------------------\n",
    "find_pairs(b, q, u)\n",
    "coin_bunch = 2\n",
    "if q == u : busd_busd = True\n",
    "else      : busd_busd = False\n",
    "o1={}; o2={}\n",
    "client_report = ''\n",
    "isWriteToFile = False"
   ]
  },
  {
   "cell_type": "code",
   "execution_count": null,
   "metadata": {
    "colab": {
     "base_uri": "https://localhost:8080/",
     "height": 1000
    },
    "executionInfo": {
     "elapsed": 271821,
     "status": "error",
     "timestamp": 1669822620297,
     "user": {
      "displayName": "Александр Литвинов",
      "userId": "13946514427652999048"
     },
     "user_tz": -180
    },
    "id": "8M59VUfVsoyI",
    "jupyter": {
     "source_hidden": true
    },
    "outputId": "f1cfd617-0489-45bd-fd53-7614291ff73e",
    "scrolled": true,
    "tags": []
   },
   "outputs": [
    {
     "name": "stdout",
     "output_type": "stream",
     "text": [
      "b1 b:3210.2(874) q:30.76(6)   bq:880.48  B:0.023   <>:880.48\n",
      "b2 b:6035.7606(1644) q:6408.71(1256)   bq:2899.76  B:0.033   <>:2899.76\n",
      "New W_usd: 792.44\n",
      "b1 b:3210.2(875) q:30.76(6)   bq:880.8  B:0.023   <>:0.32\n",
      "b2 b:6035.7606(1645) q:6408.71(1256)   bq:2900.36  B:0.033   <>:0.60\n",
      "b1 BNB ok\n",
      "b2 BNB ok\n",
      "\n",
      "--------------------------------------------------------------------------------\n",
      "шаг 1\n",
      "\n",
      "------------BUY - SELL\n",
      "b1 b:3210.2(875) q:30.76(6)   bq:880.8  B:0.023   <>:0.00\n",
      "b2 b:6035.7606(1645) q:6408.71(1256)   bq:2900.36  B:0.033   <>:0.00\n",
      "C98BRL . спрэд: 0.36   ping: 49   bid: 1.388   ask: 1.393\n",
      "C98BRL . спрэд: 0.57   ping: 65   bid: 1.388   ask: 1.396\n",
      "C98BRL . спрэд: 0.43   ping: 46   bid: 1.39   ask: 1.396\n",
      "C98BRL . спрэд: 0.29   ping: 31   bid: 1.392   ask: 1.396\n",
      "C98BRL . спрэд: 0.36   ping: 61   bid: 1.391   ask: 1.396\n",
      "C98BRL . спрэд: 0.5   ping: 28   bid: 1.391   ask: 1.398\n",
      "C98BRL . спрэд: 0.43   ping: 22   bid: 1.392   ask: 1.398\n",
      "C98BRL . спрэд: 0.64   ping: 29   bid: 1.389   ask: 1.398\n",
      "C98BRL . спрэд: 0.57   ping: 28   bid: 1.39   ask: 1.398\n",
      "C98BRL . спрэд: 0.5   ping: 52   bid: 1.391   ask: 1.398\n",
      "C98BRL . спрэд: 0.57   ping: 38   bid: 1.387   ask: 1.395\n",
      "C98BRL . спрэд: 0.43   ping: 43   bid: 1.389   ask: 1.395\n",
      "C98BRL . спрэд: 0.36   ping: 50   bid: 1.39   ask: 1.395\n",
      "C98BRL . спрэд: 0.29   ping: 51   bid: 1.391   ask: 1.395\n",
      "C98BRL . спрэд: 0.5   ping: 33   bid: 1.393   ask: 1.4\n",
      "C98BRL . спрэд: 0.57   ping: 41   bid: 1.392   ask: 1.4\n",
      "C98BRL . спрэд: 0.36   ping: 66   bid: 1.395   ask: 1.4\n",
      "C98BRL . спрэд: 0.43   ping: 41   bid: 1.394   ask: 1.4\n",
      "C98BRL . спрэд: 0.57   ping: 30   bid: 1.392   ask: 1.4\n",
      "C98BRL . спрэд: 0.5   ping: 36   bid: 1.391   ask: 1.398\n",
      "C98BRL . спрэд: 0.57   ping: 51   bid: 1.39   ask: 1.398\n",
      "C98BRL . спрэд: 0.5   ping: 28   bid: 1.391   ask: 1.398\n",
      "C98BRL . спрэд: 0.36   ping: 31   bid: 1.391   ask: 1.396\n",
      "C98BRL . спрэд: 0.29   ping: 47   bid: 1.392   ask: 1.396\n",
      "C98BRL . спрэд: 0.5   ping: 30   bid: 1.393   ask: 1.4\n",
      "C98BRL . спрэд: 0.36   ping: 68   bid: 1.395   ask: 1.4\n",
      "C98BRL . спрэд: 0.5   ping: 47   bid: 1.393   ask: 1.4\n",
      "C98BRL . спрэд: 0.43   ping: 48   bid: 1.394   ask: 1.4\n",
      "C98BRL . спрэд: 0.57   ping: 48   bid: 1.392   ask: 1.4\n",
      "C98BRL . спрэд: 0.5   ping: 29   bid: 1.393   ask: 1.4\n",
      "C98BRL . спрэд: 0.36   ping: 49   bid: 1.395   ask: 1.4\n",
      "C98BRL . спрэд: 0.29   ping: 37   bid: 1.396   ask: 1.4\n",
      "C98BRL . спрэд: 0.43   ping: 25   bid: 1.398   ask: 1.404\n",
      "C98BRL . спрэд: 0.57   ping: 47   bid: 1.396   ask: 1.404\n",
      "C98BRL . спрэд: 0.64   ping: 48   bid: 1.395   ask: 1.404\n",
      "C98BRL . спрэд: 0.57   ping: 31   bid: 1.395   ask: 1.403\n",
      "C98BRL . спрэд: 0.43   ping: 50   bid: 1.395   ask: 1.401\n",
      "C98BRL . спрэд: 0.57   ping: 78   bid: 1.393   ask: 1.401\n",
      "C98BRL . спрэд: 0.5   ping: 30   bid: 1.394   ask: 1.401\n",
      "C98BRL . спрэд: 0.57   ping: 43   bid: 1.393   ask: 1.401\n",
      "C98BRL . спрэд: 0.5   ping: 31   bid: 1.391   ask: 1.398\n",
      "C98BRL . спрэд: 0.29   ping: 40   bid: 1.394   ask: 1.398\n",
      "C98BRL . спрэд: 0.43   ping: 79   bid: 1.392   ask: 1.398\n",
      "C98BRL . спрэд: 0.36   ping: 33   bid: 1.393   ask: 1.398\n",
      "C98BRL . спрэд: 0.57   ping: 30   bid: 1.393   ask: 1.401\n",
      "C98BRL . спрэд: 0.5   ping: 47   bid: 1.391   ask: 1.398\n",
      "C98BRL . спрэд: 0.43   ping: 35   bid: 1.392   ask: 1.398\n",
      "C98BRL . спрэд: 0.5   ping: 27   bid: 1.391   ask: 1.398\n",
      "C98BRL . спрэд: 0.57   ping: 33   bid: 1.388   ask: 1.396\n",
      "C98BRL . спрэд: 0.5   ping: 44   bid: 1.389   ask: 1.396\n",
      "C98BRL . спрэд: 0.64   ping: 41   bid: 1.387   ask: 1.396\n",
      "C98BRL . спрэд: 0.5   ping: 31   bid: 1.389   ask: 1.396\n",
      "C98BRL . спрэд: 0.64   ping: 16   bid: 1.387   ask: 1.396\n",
      "C98BRL . спрэд: 0.5   ping: 73   bid: 1.389   ask: 1.396\n",
      "C98BRL . спрэд: 0.36   ping: 45   bid: 1.391   ask: 1.396\n",
      "C98BRL . спрэд: 0.57   ping: 61   bid: 1.388   ask: 1.396\n",
      "C98BRL . спрэд: 0.5   ping: 47   bid: 1.389   ask: 1.396\n",
      "C98BRL . спрэд: 0.43   ping: 47   bid: 1.39   ask: 1.396\n",
      "C98BRL . спрэд: 0.36   ping: 45   bid: 1.391   ask: 1.396\n",
      "C98BRL . спрэд: 0.57   ping: 47   bid: 1.388   ask: 1.396\n",
      "C98BRL . спрэд: 0.5   ping: 47   bid: 1.389   ask: 1.396\n",
      "C98BRL . спрэд: 0.64   ping: 5   bid: 1.387   ask: 1.396\n",
      "C98BRL . спрэд: 0.5   ping: 43   bid: 1.387   ask: 1.394\n",
      "C98BRL . спрэд: 0.65   ping: 31   bid: 1.385   ask: 1.394\n",
      "C98BRL . спрэд: 0.57   ping: 63   bid: 1.386   ask: 1.394\n",
      "C98BRL . спрэд: 0.43   ping: 46   bid: 1.388   ask: 1.394\n",
      "C98BRL . спрэд: 0.57   ping: 34   bid: 1.386   ask: 1.394\n",
      "C98BRL . спрэд: 0.5   ping: 47   bid: 1.387   ask: 1.394\n",
      "C98BRL . спрэд: 0.43   ping: 47   bid: 1.388   ask: 1.394\n",
      "C98BRL . спрэд: 0.36   ping: 48   bid: 1.389   ask: 1.394\n",
      "C98BRL . спрэд: 0.5   ping: 32   bid: 1.387   ask: 1.394\n",
      "C98BRL . спрэд: 0.57   ping: 53   bid: 1.386   ask: 1.394\n",
      "C98BRL . спрэд: 0.43   ping: 44   bid: 1.388   ask: 1.394\n",
      "C98BRL . спрэд: 0.57   ping: 42   bid: 1.386   ask: 1.394\n",
      "C98BRL . спрэд: 0.5   ping: 45   bid: 1.387   ask: 1.394\n",
      "C98BRL . спрэд: 0.57   ping: 16   bid: 1.386   ask: 1.394\n",
      "C98BRL . спрэд: 0.5   ping: 47   bid: 1.385   ask: 1.392\n",
      "C98BRL . спрэд: 0.36   ping: 44   bid: 1.387   ask: 1.392\n",
      "C98BRL . спрэд: 0.29   ping: 26   bid: 1.388   ask: 1.392\n",
      "C98BRL . спрэд: 0.57   ping: 48   bid: 1.388   ask: 1.396\n",
      "C98BRL . спрэд: 0.64   ping: 31   bid: 1.387   ask: 1.396\n",
      "C98BRL . спрэд: 0.43   ping: 43   bid: 1.39   ask: 1.396\n",
      "C98BRL . спрэд: 0.5   ping: 50   bid: 1.389   ask: 1.396\n",
      "C98BRL . спрэд: 0.57   ping: 45   bid: 1.388   ask: 1.396\n",
      "C98BRL . спрэд: 0.64   ping: 25   bid: 1.387   ask: 1.396\n",
      "C98BRL . спрэд: 0.65   ping: 31   bid: 1.385   ask: 1.394\n",
      "C98BRL . спрэд: 0.72   ping: 47   bid: 1.384   ask: 1.394\n",
      "C98BRL . спрэд: 0.65   ping: 36   bid: 1.384   ask: 1.393\n",
      "C98BRL . спрэд: 0.57   ping: 31   bid: 1.384   ask: 1.392\n",
      "C98BRL . спрэд: 0.43   ping: 28   bid: 1.386   ask: 1.392\n",
      "C98BRL . спрэд: 0.36   ping: 31   bid: 1.387   ask: 1.392\n",
      "C98BRL . спрэд: 0.64   ping: 49   bid: 1.387   ask: 1.396\n",
      "C98BRL . спрэд: 0.5   ping: 31   bid: 1.389   ask: 1.396\n",
      "C98BRL . спрэд: 0.57   ping: 37   bid: 1.388   ask: 1.396\n",
      "C98BRL . спрэд: 0.64   ping: 30   bid: 1.387   ask: 1.396\n",
      "C98BRL . спрэд: 0.57   ping: 31   bid: 1.387   ask: 1.395\n",
      "C98BRL . спрэд: 0.5   ping: 46   bid: 1.386   ask: 1.393\n",
      "C98BRL . спрэд: 0.29   ping: 49   bid: 1.389   ask: 1.393\n",
      "C98BRL . спрэд: 0.64   ping: 53   bid: 1.389   ask: 1.398\n",
      "C98BRL . спрэд: 0.43   ping: 44   bid: 1.392   ask: 1.398\n",
      "C98BRL . спрэд: 0.57   ping: 53   bid: 1.394   ask: 1.402\n",
      "C98BRL . спрэд: 0.5   ping: 31   bid: 1.395   ask: 1.402\n",
      "C98BRL . спрэд: 0.64   ping: 37   bid: 1.393   ask: 1.402\n",
      "C98BRL . спрэд: 0.43   ping: 47   bid: 1.396   ask: 1.402\n",
      "C98BRL . спрэд: 0.57   ping: 63   bid: 1.398   ask: 1.406\n",
      "C98BRL . спрэд: 0.43   ping: 29   bid: 1.399   ask: 1.405\n",
      "C98BRL . спрэд: 0.57   ping: 46   bid: 1.397   ask: 1.405\n",
      "C98BRL . спрэд: 0.64   ping: 63   bid: 1.396   ask: 1.405\n",
      "C98BRL . спрэд: 0.78   ping: 48   bid: 1.394   ask: 1.405\n",
      "C98BRL . спрэд: 0.57   ping: 38   bid: 1.395   ask: 1.403\n",
      "C98BRL . спрэд: 0.78   ping: 31   bid: 1.392   ask: 1.403\n",
      "C98BRL . спрэд: 0.64   ping: 78   bid: 1.394   ask: 1.403\n",
      "C98BRL . спрэд: 0.5   ping: 46   bid: 1.394   ask: 1.401\n",
      "C98BRL . спрэд: 0.36   ping: 48   bid: 1.396   ask: 1.401\n",
      "C98BRL . спрэд: 0.29   ping: 27   bid: 1.397   ask: 1.401\n",
      "C98BRL . спрэд: 0.57   ping: 50   bid: 1.397   ask: 1.405\n",
      "C98BRL . спрэд: 0.71   ping: 31   bid: 1.395   ask: 1.405\n",
      "C98BRL . спрэд: 0.64   ping: 33   bid: 1.396   ask: 1.405\n",
      "C98BRL . спрэд: 0.5   ping: 42   bid: 1.395   ask: 1.402\n",
      "C98BRL . спрэд: 0.57   ping: 31   bid: 1.394   ask: 1.402\n",
      "C98BRL . спрэд: 0.43   ping: 45   bid: 1.394   ask: 1.4\n",
      "C98BRL . спрэд: 0.5   ping: 31   bid: 1.393   ask: 1.4\n",
      "C98BRL . спрэд: 0.43   ping: 63   bid: 1.393   ask: 1.399\n",
      "C98BRL . спрэд: 0.36   ping: 34   bid: 1.393   ask: 1.398\n",
      "C98BRL . спрэд: 0.5   ping: 31   bid: 1.391   ask: 1.398\n",
      "C98BRL . спрэд: 0.43   ping: 30   bid: 1.392   ask: 1.398\n",
      "C98BRL . спрэд: 0.5   ping: 47   bid: 1.391   ask: 1.398\n",
      "C98BRL . спрэд: 0.57   ping: 61   bid: 1.39   ask: 1.398\n",
      "C98BRL . спрэд: 0.5   ping: 49   bid: 1.39   ask: 1.397\n",
      "C98BRL . спрэд: 0.57   ping: 50   bid: 1.388   ask: 1.396\n",
      "C98BRL . спрэд: 0.5   ping: 43   bid: 1.389   ask: 1.396\n",
      "C98BRL . спрэд: 0.43   ping: 45   bid: 1.388   ask: 1.394\n",
      "C98BRL . спрэд: 0.65   ping: 35   bid: 1.385   ask: 1.394\n",
      "C98BRL . спрэд: 0.5   ping: 48   bid: 1.386   ask: 1.393\n"
     ]
    },
    {
     "name": "stdout",
     "output_type": "stream",
     "text": [
      "C98BRL . спрэд: 0.43   ping: 29   bid: 1.386   ask: 1.392\n",
      "C98BRL . спрэд: 0.5   ping: 36   bid: 1.385   ask: 1.392\n",
      "C98BRL . спрэд: 0.58   ping: 47   bid: 1.382   ask: 1.39\n",
      "C98BRL . спрэд: 0.72   ping: 48   bid: 1.38   ask: 1.39\n",
      "C98BRL . спрэд: 0.65   ping: 47   bid: 1.381   ask: 1.39\n",
      "C98BRL . спрэд: 0.5   ping: 31   bid: 1.381   ask: 1.388\n",
      "C98BRL . спрэд: 0.43   ping: 29   bid: 1.381   ask: 1.387\n",
      "C98BRL . спрэд: 0.22   ping: 42   bid: 1.384   ask: 1.387\n",
      "C98BRL . спрэд: 0.65   ping: 63   bid: 1.384   ask: 1.393\n",
      "C98BRL . спрэд: 0.58   ping: 31   bid: 1.383   ask: 1.391\n",
      "C98BRL . спрэд: 0.72   ping: 38   bid: 1.381   ask: 1.391\n",
      "C98BRL . спрэд: 0.65   ping: 62   bid: 1.381   ask: 1.39\n",
      "C98BRL . спрэд: 0.58   ping: 31   bid: 1.381   ask: 1.389\n",
      "C98BRL . спрэд: 0.65   ping: 46   bid: 1.38   ask: 1.389\n",
      "C98BRL . спрэд: 0.29   ping: 15   bid: 1.379   ask: 1.383\n",
      "C98BRL . спрэд: 0.65   ping: 64   bid: 1.378   ask: 1.387\n",
      "C98BRL . спрэд: 0.58   ping: 57   bid: 1.378   ask: 1.386\n",
      "C98BRL . спрэд: 0.51   ping: 31   bid: 1.379   ask: 1.386\n",
      "C98BRL . спрэд: 0.43   ping: 61   bid: 1.378   ask: 1.384\n",
      "C98BRL . спрэд: 0.58   ping: 16   bid: 1.378   ask: 1.386\n",
      "C98BRL . спрэд: 0.43   ping: 44   bid: 1.379   ask: 1.385\n",
      "C98BRL . спрэд: 0.51   ping: 42   bid: 1.379   ask: 1.386\n",
      "C98BRL . спрэд: 0.58   ping: 47   bid: 1.379   ask: 1.387\n",
      "C98BRL . спрэд: 0.29   ping: 46   bid: 1.378   ask: 1.382\n",
      "C98BRL . спрэд: 0.22   ping: 50   bid: 1.379   ask: 1.382\n",
      "C98BRL . спрэд: 1.15   ping: 31   bid: 1.378   ask: 1.394\n",
      "C98BRL . спрэд: 0.14   ping: 90   bid: 1.378   ask: 1.38\n",
      "C98BRL . спрэд: 0.07   ping: 47   bid: 1.378   ask: 1.379\n",
      "C98BRL . спрэд: 0.36   ping: 40   bid: 1.371   ask: 1.376\n",
      "C98BRL . спрэд: 0.22   ping: 60   bid: 1.371   ask: 1.374\n",
      "C98BRL . спрэд: 0.15   ping: 59   bid: 1.371   ask: 1.373\n",
      "C98BRL . спрэд: 0.29   ping: 36   bid: 1.371   ask: 1.375\n",
      "C98BRL . спрэд: 0.22   ping: 70   bid: 1.371   ask: 1.374\n",
      "C98BRL . спрэд: 0.15   ping: 31   bid: 1.371   ask: 1.373\n",
      "C98BRL . спрэд: 0.07   ping: 70   bid: 1.371   ask: 1.372\n",
      "C98BRL . спрэд: 0.44   ping: 43   bid: 1.371   ask: 1.377\n",
      "C98BRL . спрэд: 0.36   ping: 60   bid: 1.371   ask: 1.376\n",
      "C98BRL . спрэд: 0.44   ping: 47   bid: 1.371   ask: 1.377\n",
      "C98BRL . спрэд: 0.07   ping: 30   bid: 1.371   ask: 1.372\n",
      "C98BRL . спрэд: 0.37   ping: 79   bid: 1.364   ask: 1.369\n",
      "C98BRL . спрэд: 0.44   ping: 38   bid: 1.364   ask: 1.37\n",
      "C98BRL . спрэд: 0.37   ping: 46   bid: 1.364   ask: 1.369\n",
      "C98BRL . спрэд: 0.44   ping: 32   bid: 1.364   ask: 1.37\n",
      "C98BRL . спрэд: 0.15   ping: 43   bid: 1.364   ask: 1.366\n",
      "C98BRL . спрэд: 0.44   ping: 47   bid: 1.36   ask: 1.366\n",
      "C98BRL . спрэд: 0.58   ping: 59   bid: 1.36   ask: 1.368\n",
      "C98BRL . спрэд: 0.44   ping: 61   bid: 1.36   ask: 1.366\n",
      "C98BRL . спрэд: 0.51   ping: 32   bid: 1.36   ask: 1.367\n",
      "C98BRL . спрэд: 0.58   ping: 34   bid: 1.36   ask: 1.368\n",
      "C98BRL . спрэд: 0.51   ping: 45   bid: 1.36   ask: 1.367\n",
      "C98BRL . спрэд: 0.44   ping: 45   bid: 1.361   ask: 1.367\n",
      "C98BRL . спрэд: 0.58   ping: 47   bid: 1.36   ask: 1.368\n",
      "C98BRL . спрэд: 0.51   ping: 30   bid: 1.36   ask: 1.367\n",
      "C98BRL . спрэд: 0.37   ping: 93   bid: 1.361   ask: 1.366\n",
      "C98BRL . спрэд: 0.51   ping: 47   bid: 1.362   ask: 1.369\n",
      "C98BRL . спрэд: 0.58   ping: 47   bid: 1.362   ask: 1.37\n",
      "C98BRL . спрэд: 0.44   ping: 45   bid: 1.364   ask: 1.37\n",
      "C98BRL . спрэд: 0.58   ping: 31   bid: 1.366   ask: 1.374\n",
      "C98BRL . спрэд: 0.51   ping: 52   bid: 1.366   ask: 1.373\n",
      "C98BRL . спрэд: 0.36   ping: 37   bid: 1.368   ask: 1.373\n",
      "C98BRL . спрэд: 0.51   ping: 35   bid: 1.366   ask: 1.373\n",
      "C98BRL . спрэд: 0.36   ping: 78   bid: 1.368   ask: 1.373\n",
      "C98BRL . спрэд: 0.51   ping: 47   bid: 1.366   ask: 1.373\n",
      "C98BRL . спрэд: 0.65   ping: 41   bid: 1.366   ask: 1.375\n",
      "C98BRL . спрэд: 0.73   ping: 47   bid: 1.364   ask: 1.374\n",
      "C98BRL . спрэд: 0.58   ping: 62   bid: 1.364   ask: 1.372\n",
      "C98BRL . спрэд: 0.73   ping: 32   bid: 1.362   ask: 1.372\n",
      "C98BRL . спрэд: 0.66   ping: 29   bid: 1.362   ask: 1.371\n",
      "C98BRL . спрэд: 0.8   ping: 35   bid: 1.361   ask: 1.372\n",
      "C98BRL . спрэд: 0.73   ping: 42   bid: 1.361   ask: 1.371\n",
      "C98BRL . спрэд: 0.8   ping: 49   bid: 1.361   ask: 1.372\n",
      "C98BRL . спрэд: 0.73   ping: 30   bid: 1.361   ask: 1.371\n",
      "C98BRL . спрэд: 0.58   ping: 66   bid: 1.363   ask: 1.371\n",
      "C98BRL . спрэд: 0.36   ping: 32   bid: 1.366   ask: 1.371\n",
      "C98BRL . спрэд: 0.44   ping: 32   bid: 1.365   ask: 1.371\n",
      "C98BRL . спрэд: 0.29   ping: 31   bid: 1.367   ask: 1.371\n",
      "C98BRL . спрэд: 0.65   ping: 63   bid: 1.367   ask: 1.376\n",
      "C98BRL . спрэд: 0.58   ping: 49   bid: 1.367   ask: 1.375\n",
      "C98BRL . спрэд: 0.73   ping: 0   bid: 1.363   ask: 1.373\n",
      "C98BRL . спрэд: 0.58   ping: 38   bid: 1.365   ask: 1.373\n",
      "C98BRL . спрэд: 0.44   ping: 39   bid: 1.367   ask: 1.373\n",
      "C98BRL . спрэд: 0.58   ping: 61   bid: 1.365   ask: 1.373\n",
      "C98BRL . спрэд: 0.44   ping: 47   bid: 1.367   ask: 1.373\n",
      "C98BRL . спрэд: 0.58   ping: 29   bid: 1.365   ask: 1.373\n",
      "C98BRL . спрэд: 0.8   ping: 43   bid: 1.362   ask: 1.373\n",
      "C98BRL . спрэд: 0.73   ping: 63   bid: 1.363   ask: 1.373\n",
      "C98BRL . спрэд: 0.8   ping: 50   bid: 1.36   ask: 1.371\n",
      "C98BRL . спрэд: 0.73   ping: 41   bid: 1.36   ask: 1.37\n",
      "C98BRL . спрэд: 0.58   ping: 79   bid: 1.361   ask: 1.369\n",
      "C98BRL . спрэд: 0.51   ping: 50   bid: 1.362   ask: 1.369\n",
      "C98BRL . спрэд: 0.44   ping: 58   bid: 1.363   ask: 1.369\n",
      "C98BRL . спрэд: 0.29   ping: 60   bid: 1.365   ask: 1.369\n",
      "C98BRL . спрэд: 0.44   ping: 59   bid: 1.363   ask: 1.369\n",
      "C98BRL . спрэд: 0.51   ping: 27   bid: 1.362   ask: 1.369\n",
      "C98BRL . спрэд: 0.66   ping: 62   bid: 1.36   ask: 1.369\n",
      "C98BRL . спрэд: 0.58   ping: 47   bid: 1.361   ask: 1.369\n",
      "C98BRL . спрэд: 0.66   ping: 50   bid: 1.36   ask: 1.369\n",
      "C98BRL . спрэд: 0.58   ping: 49   bid: 1.361   ask: 1.369\n",
      "C98BRL . спрэд: 0.66   ping: 31   bid: 1.36   ask: 1.369\n",
      "C98BRL . спрэд: 0.58   ping: 30   bid: 1.36   ask: 1.368\n",
      "C98BRL . спрэд: 0.51   ping: 41   bid: 1.36   ask: 1.367\n",
      "C98BRL . спрэд: 0.44   ping: 64   bid: 1.36   ask: 1.366\n",
      "C98BRL . спрэд: 0.37   ping: 45   bid: 1.36   ask: 1.365\n",
      "C98BRL . спрэд: 0.59   ping: 45   bid: 1.357   ask: 1.365\n",
      "C98BRL . спрэд: 0.37   ping: 29   bid: 1.357   ask: 1.362\n",
      "C98BRL . спрэд: 0.59   ping: 25   bid: 1.357   ask: 1.365\n",
      "C98BRL . спрэд: 0.44   ping: 34   bid: 1.357   ask: 1.363\n",
      "C98BRL . спрэд: 0.51   ping: 39   bid: 1.357   ask: 1.364\n",
      "C98BRL . спрэд: 0.59   ping: 17   bid: 1.357   ask: 1.365\n",
      "C98BRL . спрэд: 0.51   ping: 41   bid: 1.357   ask: 1.364\n",
      "C98BRL . спрэд: 0.59   ping: 43   bid: 1.357   ask: 1.365\n",
      "C98BRL . спрэд: 0.51   ping: 39   bid: 1.357   ask: 1.364\n",
      "C98BRL . спрэд: 0.59   ping: 54   bid: 1.357   ask: 1.365\n",
      "C98BRL . спрэд: 0.66   ping: 47   bid: 1.357   ask: 1.366\n",
      "C98BRL . спрэд: 0.51   ping: 48   bid: 1.359   ask: 1.366\n",
      "C98BRL . спрэд: 0.44   ping: 45   bid: 1.359   ask: 1.365\n",
      "C98BRL . спрэд: 0.37   ping: 46   bid: 1.36   ask: 1.365\n",
      "C98BRL . спрэд: 0.51   ping: 44   bid: 1.358   ask: 1.365\n",
      "C98BRL . спрэд: 0.44   ping: 15   bid: 1.359   ask: 1.365\n",
      "C98BRL . спрэд: 0.58   ping: 32   bid: 1.362   ask: 1.37\n",
      "C98BRL . спрэд: 0.44   ping: 61   bid: 1.364   ask: 1.37\n",
      "C98BRL . спрэд: 0.58   ping: 65   bid: 1.362   ask: 1.37\n",
      "C98BRL . спрэд: 0.44   ping: 125   bid: 1.362   ask: 1.368\n",
      "C98BRL . спрэд: 0.51   ping: 89   bid: 1.361   ask: 1.368\n",
      "C98BRL . спрэд: 0.73   ping: 54   bid: 1.358   ask: 1.368\n",
      "C98BRL . спрэд: 0.58   ping: 47   bid: 1.36   ask: 1.368\n",
      "C98BRL . спрэд: 0.44   ping: 43   bid: 1.362   ask: 1.368\n",
      "C98BRL . спрэд: 0.58   ping: 32   bid: 1.36   ask: 1.368\n",
      "C98BRL . спрэд: 0.51   ping: 55   bid: 1.361   ask: 1.368\n",
      "C98BRL . спрэд: 0.73   ping: 36   bid: 1.363   ask: 1.373\n",
      "C98BRL . спрэд: 0.66   ping: 60   bid: 1.363   ask: 1.372\n",
      "C98BRL . спрэд: 0.58   ping: 47   bid: 1.363   ask: 1.371\n",
      "C98BRL . спрэд: 0.73   ping: 43   bid: 1.361   ask: 1.371\n",
      "C98BRL . спрэд: 0.66   ping: 48   bid: 1.361   ask: 1.37\n",
      "C98BRL . спрэд: 0.73   ping: 43   bid: 1.359   ask: 1.369\n",
      "C98BRL . спрэд: 0.59   ping: 58   bid: 1.359   ask: 1.367\n",
      "C98BRL . спрэд: 0.51   ping: 39   bid: 1.359   ask: 1.366\n",
      "C98BRL . спрэд: 0.37   ping: 38   bid: 1.361   ask: 1.366\n",
      "C98BRL . спрэд: 0.44   ping: 38   bid: 1.36   ask: 1.366\n",
      "C98BRL . спрэд: 0.59   ping: 53   bid: 1.358   ask: 1.366\n",
      "C98BRL . спрэд: 0.73   ping: 65   bid: 1.356   ask: 1.366\n",
      "C98BRL . спрэд: 0.66   ping: 31   bid: 1.357   ask: 1.366\n"
     ]
    },
    {
     "name": "stdout",
     "output_type": "stream",
     "text": [
      "C98BRL . спрэд: 0.73   ping: 29   bid: 1.356   ask: 1.366\n",
      "C98BRL . спрэд: 0.66   ping: 29   bid: 1.357   ask: 1.366\n",
      "C98BRL . спрэд: 0.73   ping: 46   bid: 1.356   ask: 1.366\n",
      "C98BRL . спрэд: 0.51   ping: 44   bid: 1.356   ask: 1.363\n",
      "C98BRL . спрэд: 0.44   ping: 40   bid: 1.356   ask: 1.362\n",
      "C98BRL . спрэд: 0.37   ping: 31   bid: 1.356   ask: 1.361\n",
      "C98BRL . спрэд: 0.29   ping: 47   bid: 1.356   ask: 1.36\n",
      "C98BRL . спрэд: 0.22   ping: 45   bid: 1.356   ask: 1.359\n",
      "C98BRL . спрэд: 0.07   ping: 34   bid: 1.356   ask: 1.357\n"
     ]
    }
   ],
   "source": [
    "#4 START\n",
    "\n",
    "isWriteToFile = True\n",
    "if isWriteToFile : f = createFile('rep\\M44')\n",
    "\n",
    "\n",
    "BS_async = True\n",
    "SB_async = True\n",
    "time_b2_b1 = 0.5\n",
    "\n",
    "time_wait_spread = 3 #sek\n",
    "eat_vol = 0.06\n",
    "\n",
    "\n",
    "cancel_orders(bot2)\n",
    "get_new_Work_usd()\n",
    "busd_to_bnb()\n",
    "\n",
    "#after_sell()\n",
    "\n",
    "# Если начинать с продажи\n",
    "#await _try_sell_buy()  if SB_async else try_sell_buy()\n",
    "\n",
    "\n",
    "#global client_report\n",
    "step = 1\n",
    "while 1 :\n",
    "  print('\\n--------------------------------------------------------------------------------')\n",
    "  print(f'шаг {step}')\n",
    "  client_report = client_report + f'шаг {step}' + '\\n'\n",
    "  print('\\n------------BUY - SELL')\n",
    "\n",
    "  #is_async if   await try_buy_sell() else try_buy_sell()\n",
    "  await _try_buy_sell()  if BS_async else try_buy_sell()\n",
    "\n",
    "  if step % 2 == 1 :\n",
    "    print('\\n------------BUSD_TO_BNB')\n",
    "    busd_to_bnb()  #!!!!!!!!!!!!!!!!!!!!!!!!!!!!!\n",
    "  if step % 8 == 1 :\n",
    "    print('\\n------------WORK_USD')\n",
    "    get_new_Work_usd()\n",
    "  print('\\n------------SELL - BUY')\n",
    "\n",
    "    \n",
    "  await _try_sell_buy()  if SB_async else try_sell_buy()\n",
    "\n",
    "  t = random.random() *35 + 5\n",
    "  print('sleep: ', t)\n",
    "  time.sleep( t )\n",
    "  step = step + 1"
   ]
  },
  {
   "cell_type": "code",
   "execution_count": 1,
   "metadata": {
    "id": "dnzSrZ11e1k8"
   },
   "outputs": [
    {
     "ename": "NameError",
     "evalue": "name 'f' is not defined",
     "output_type": "error",
     "traceback": [
      "\u001b[1;31m---------------------------------------------------------------------------\u001b[0m",
      "\u001b[1;31mNameError\u001b[0m                                 Traceback (most recent call last)",
      "\u001b[1;32m~\\AppData\\Local\\Temp\\2\\ipykernel_3764\\4000743260.py\u001b[0m in \u001b[0;36m<module>\u001b[1;34m\u001b[0m\n\u001b[1;32m----> 1\u001b[1;33m \u001b[0mf\u001b[0m\u001b[1;33m.\u001b[0m\u001b[0mclose\u001b[0m\u001b[1;33m(\u001b[0m\u001b[1;33m)\u001b[0m\u001b[1;33m\u001b[0m\u001b[1;33m\u001b[0m\u001b[0m\n\u001b[0m",
      "\u001b[1;31mNameError\u001b[0m: name 'f' is not defined"
     ]
    }
   ],
   "source": [
    "f.close()"
   ]
  },
  {
   "cell_type": "code",
   "execution_count": 8,
   "metadata": {
    "colab": {
     "base_uri": "https://localhost:8080/",
     "height": 324
    },
    "executionInfo": {
     "elapsed": 3001,
     "status": "error",
     "timestamp": 1669818196612,
     "user": {
      "displayName": "Александр Литвинов",
      "userId": "13946514427652999048"
     },
     "user_tz": -180
    },
    "id": "VDpRAXSJhta_",
    "jupyter": {
     "source_hidden": true
    },
    "outputId": "6354fcfd-1892-46b9-f626-fe881436c787",
    "tags": []
   },
   "outputs": [
    {
     "name": "stdout",
     "output_type": "stream",
     "text": [
      "b1 b:0.0(0) q:3048.04(3048)   bq:3048.04  B:0.065   <>:3048.04\n",
      "b2 b:0.0(0) q:1569.18(1569)   bq:1569.18  B:0.0   <>:1569.18\n",
      "New W_usd: 1412.26\n",
      "need buy base\n"
     ]
    }
   ],
   "source": [
    "#Балансы в паре счетов\n",
    "\n",
    "get_new_Work_usd()\n",
    "\n",
    "#\n",
    "if bal['bot1']['quote_in_usd'] > Work_usd and bal['bot2']['base_in_usd'] > Work_usd :\n",
    "  print('need SellBuy')\n",
    "\n",
    "if bal['bot1']['base_in_usd'] > Work_usd and bal['bot2']['quote_in_usd'] > Work_usd :\n",
    "  print('need BuySell')\n",
    "\n",
    "if bal['bot1']['base_in_usd'] > Work_usd and bal['bot2']['base_in_usd'] > Work_usd :\n",
    "  print('need sell base')\n",
    "\n",
    "if bal['bot1']['quote_in_usd'] > Work_usd and bal['bot2']['quote_in_usd'] > Work_usd :\n",
    "  print('need buy base')\n",
    "\n",
    "  "
   ]
  },
  {
   "cell_type": "markdown",
   "metadata": {
    "id": "8ary4IMwFyEc"
   },
   "source": [
    "## Начальная закупка"
   ]
  },
  {
   "cell_type": "code",
   "execution_count": 7,
   "metadata": {
    "colab": {
     "base_uri": "https://localhost:8080/"
    },
    "executionInfo": {
     "elapsed": 290,
     "status": "ok",
     "timestamp": 1668767707278,
     "user": {
      "displayName": "Александр Литвинов",
      "userId": "13946514427652999048"
     },
     "user_tz": -180
    },
    "id": "sbJiOxqZId7P",
    "jupyter": {
     "source_hidden": true
    },
    "outputId": "ea3b7f23-d2a2-4dc2-aa7c-484d08238ef4",
    "tags": []
   },
   "outputs": [
    {
     "name": "stdout",
     "output_type": "stream",
     "text": [
      "b1  usd_to_base: C98BUSD 500\n",
      "C98BUSD origQty:2025.2 exQty:2025.2\n",
      "{'symbol': 'C98BUSD', 'orderId': 199833562, 'orderListId': -1, 'clientOrderId': 'lfckkgT1WRviZh6NRnDQRE', 'transactTime': 1674972533163, 'price': '0.00000000', 'origQty': '2025.20000000', 'executedQty': '2025.20000000', 'cummulativeQuoteQty': '499.48719000', 'status': 'FILLED', 'timeInForce': 'GTC', 'type': 'MARKET', 'side': 'BUY', 'workingTime': 1674972533163, 'fills': [{'price': '0.24660000', 'qty': '350.00000000', 'commission': '0.00020973', 'commissionAsset': 'BNB', 'tradeId': 14150363}, {'price': '0.24660000', 'qty': '946.50000000', 'commission': '0.00056718', 'commissionAsset': 'BNB', 'tradeId': 14150364}, {'price': '0.24670000', 'qty': '728.70000000', 'commission': '0.00043667', 'commissionAsset': 'BNB', 'tradeId': 14150365}], 'selfTradePreventionMode': 'NONE'}\n",
      "b2  usd_to_quote: BUSDBRL 500\n",
      "b2 не купили\n"
     ]
    }
   ],
   "source": [
    "# Начальная закупка base на bot1   и quote на bot2\n",
    "#get_new_Work_usd()\n",
    "Work_usd  = 500 # количество USD для работы/ \n",
    "\n",
    "# bot1 Купить baseAsset из Work_usd\n",
    "try :\n",
    "  print(usd_to_base( bot1, Work_usd))\n",
    "except :\n",
    "  print('b1 не купили')  \n",
    "# bot2 Купить quoteAsset из Work_usd\n",
    "try:\n",
    "  a = 0  \n",
    "  print(usd_to_quote(bot2, Work_usd))\n",
    "except :\n",
    "  print('b2 не купили') "
   ]
  },
  {
   "cell_type": "markdown",
   "metadata": {
    "id": "ArwAZbKeHVY5",
    "tags": []
   },
   "source": [
    "## распродажа монет"
   ]
  },
  {
   "cell_type": "code",
   "execution_count": 3,
   "metadata": {
    "colab": {
     "base_uri": "https://localhost:8080/"
    },
    "executionInfo": {
     "elapsed": 663,
     "status": "ok",
     "timestamp": 1668750266299,
     "user": {
      "displayName": "Александр Литвинов",
      "userId": "13946514427652999048"
     },
     "user_tz": -180
    },
    "id": "8O47-5YIcJfc",
    "outputId": "68d29083-1e4d-426a-9301-4b5c2d59522c",
    "tags": []
   },
   "outputs": [
    {
     "name": "stdout",
     "output_type": "stream",
     "text": [
      "b1 b:1626.641(419) q:545.31(8)   bq:426.67  B:0.024   <>:426.67\n",
      "b2 b:574.7(148) q:27792.15(399)   bq:546.49  B:0.032   <>:546.49\n",
      "b1  base_to_usd: ALGOBUSD 1626.641\n",
      "ALGOBUSD origQty:1625 exQty:1625\n",
      "b2  base_to_usd: ALGOBUSD 574.7\n",
      "ALGOBUSD origQty:574 exQty:574\n",
      "b2  quote_to_usd: BUSDRUB 27792.152\n",
      "BUSDRUB origQty:398 exQty:398\n"
     ]
    }
   ],
   "source": [
    "# Перегоняем Quote и Base в USD\n",
    "bal = get_balances() \n",
    "\n",
    "if bal['bot1']['baseAsset']  > bal['base_min']  : \n",
    "    a=0\n",
    "    try : base_to_usd(bot1, bal['bot1']['baseAsset'])\n",
    "    except : print('err bot1 base_to_usd')\n",
    "     \n",
    "if bal['bot1']['quoteAsset'] > bal['quote_min'] : \n",
    "    a=0\n",
    "    try : quote_to_usd(bot1, bal['bot1']['quoteAsset'])\n",
    "    except : print('err bot1 quote_to_usd')\n",
    "\n",
    "        \n",
    "if bal['bot2']['baseAsset']  > bal['base_min']  : \n",
    "    a=0\n",
    "    try : base_to_usd(bot2, bal['bot2']['baseAsset'])   \n",
    "    except : print('err bot2 base_to_usd')\n",
    "if bal['bot2']['quoteAsset'] > bal['quote_min'] : \n",
    "    a=0\n",
    "    try : quote_to_usd(bot2, bal['bot2']['quoteAsset'])\n",
    "    except : print('err bot2 quote_to_usd')"
   ]
  },
  {
   "cell_type": "code",
   "execution_count": 3,
   "metadata": {},
   "outputs": [
    {
     "data": {
      "text/plain": [
       "'18.08.09'"
      ]
     },
     "execution_count": 3,
     "metadata": {},
     "output_type": "execute_result"
    }
   ],
   "source": []
  },
  {
   "cell_type": "markdown",
   "metadata": {
    "id": "wgiOsP3rw1cj"
   },
   "source": [
    "## Балансы > 0"
   ]
  },
  {
   "cell_type": "code",
   "execution_count": 6,
   "metadata": {
    "colab": {
     "base_uri": "https://localhost:8080/",
     "height": 467
    },
    "executionInfo": {
     "elapsed": 484,
     "status": "error",
     "timestamp": 1669796289496,
     "user": {
      "displayName": "Александр Литвинов",
      "userId": "13946514427652999048"
     },
     "user_tz": -180
    },
    "id": "qUUSBja3_els",
    "jupyter": {
     "source_hidden": true
    },
    "outputId": "b6219f70-7e4a-440c-c79c-fbe82dd104bc",
    "tags": []
   },
   "outputs": [
    {
     "name": "stdout",
     "output_type": "stream",
     "text": [
      "bot1\n",
      "{'asset': 'BUSD', 'free': '3067.81128579', 'locked': '0.00000000'}\n",
      "bot2\n",
      "{'asset': 'BNB', 'free': '0.00011479', 'locked': '0.00000000'}\n",
      "{'asset': 'USDT', 'free': '4.25180160', 'locked': '0.00000000'}\n",
      "{'asset': 'BUSD', 'free': '1569.18047740', 'locked': '0.00000000'}\n"
     ]
    }
   ],
   "source": [
    "# Balances > 0\n",
    "\n",
    "print('bot1')\n",
    "acc = bot1.account()['balances']\n",
    "for i in range( len(acc) ):\n",
    "  if float(acc[i]['free']) > 0 :\n",
    "    print(acc[i])\n",
    "\n",
    "print('bot2')\n",
    "acc = bot2.account()['balances']\n",
    "for i in range( len(acc) ):\n",
    "  if float(acc[i]['free']) > 0 :\n",
    "    print(acc[i])"
   ]
  },
  {
   "cell_type": "markdown",
   "metadata": {
    "id": "fWIC6GwYw67C"
   },
   "source": [
    "## createOrders"
   ]
  },
  {
   "cell_type": "code",
   "execution_count": 3,
   "metadata": {
    "colab": {
     "base_uri": "https://localhost:8080/"
    },
    "executionInfo": {
     "elapsed": 266,
     "status": "ok",
     "timestamp": 1668749642561,
     "user": {
      "displayName": "Александр Литвинов",
      "userId": "13946514427652999048"
     },
     "user_tz": -180
    },
    "id": "VsGExiB6wScu",
    "outputId": "fe9625bc-a559-440f-eda0-e0cfc47dc84c"
   },
   "outputs": [
    {
     "ename": "Exception",
     "evalue": "{\"code\":-2015,\"msg\":\"Invalid API-key, IP, or permissions for action.\"}",
     "output_type": "error",
     "traceback": [
      "\u001b[1;31m---------------------------------------------------------------------------\u001b[0m",
      "\u001b[1;31mException\u001b[0m                                 Traceback (most recent call last)",
      "\u001b[1;32m~\\AppData\\Local\\Temp\\2\\ipykernel_3576\\3051430608.py\u001b[0m in \u001b[0;36m<module>\u001b[1;34m\u001b[0m\n\u001b[0;32m      5\u001b[0m \u001b[1;31m#pair = 'BUSDBRL'\u001b[0m\u001b[1;33m\u001b[0m\u001b[1;33m\u001b[0m\u001b[0m\n\u001b[0;32m      6\u001b[0m \u001b[1;33m\u001b[0m\u001b[0m\n\u001b[1;32m----> 7\u001b[1;33m bot1.createOrder(\n\u001b[0m\u001b[0;32m      8\u001b[0m       \u001b[0msymbol\u001b[0m        \u001b[1;33m=\u001b[0m \u001b[0mpair\u001b[0m\u001b[1;33m,\u001b[0m\u001b[1;33m\u001b[0m\u001b[1;33m\u001b[0m\u001b[0m\n\u001b[0;32m      9\u001b[0m       \u001b[1;31m#quantity      = rounds( qty * 0.9995, sett[ pair ]['lot_precision'] ),\u001b[0m\u001b[1;33m\u001b[0m\u001b[1;33m\u001b[0m\u001b[0m\n",
      "\u001b[1;32m~\\AppData\\Local\\Temp\\2\\ipykernel_3576\\1486528545.py\u001b[0m in \u001b[0;36mwrapper\u001b[1;34m(*args, **kwargs)\u001b[0m\n\u001b[0;32m     83\u001b[0m         \u001b[1;32mdef\u001b[0m \u001b[0mwrapper\u001b[0m\u001b[1;33m(\u001b[0m\u001b[1;33m*\u001b[0m\u001b[0margs\u001b[0m\u001b[1;33m,\u001b[0m \u001b[1;33m**\u001b[0m\u001b[0mkwargs\u001b[0m\u001b[1;33m)\u001b[0m\u001b[1;33m:\u001b[0m\u001b[1;33m\u001b[0m\u001b[1;33m\u001b[0m\u001b[0m\n\u001b[0;32m     84\u001b[0m             \u001b[0mkwargs\u001b[0m\u001b[1;33m.\u001b[0m\u001b[0mupdate\u001b[0m\u001b[1;33m(\u001b[0m\u001b[0mcommand\u001b[0m\u001b[1;33m=\u001b[0m\u001b[0mname\u001b[0m\u001b[1;33m)\u001b[0m\u001b[1;33m\u001b[0m\u001b[1;33m\u001b[0m\u001b[0m\n\u001b[1;32m---> 85\u001b[1;33m             \u001b[1;32mreturn\u001b[0m \u001b[0mself\u001b[0m\u001b[1;33m.\u001b[0m\u001b[0mcall_api\u001b[0m\u001b[1;33m(\u001b[0m\u001b[1;33m**\u001b[0m\u001b[0mkwargs\u001b[0m\u001b[1;33m)\u001b[0m\u001b[1;33m\u001b[0m\u001b[1;33m\u001b[0m\u001b[0m\n\u001b[0m\u001b[0;32m     86\u001b[0m         \u001b[1;32mreturn\u001b[0m \u001b[0mwrapper\u001b[0m\u001b[1;33m\u001b[0m\u001b[1;33m\u001b[0m\u001b[0m\n\u001b[0;32m     87\u001b[0m \u001b[1;33m\u001b[0m\u001b[0m\n",
      "\u001b[1;32m~\\AppData\\Local\\Temp\\2\\ipykernel_3576\\1486528545.py\u001b[0m in \u001b[0;36mcall_api\u001b[1;34m(self, **kwargs)\u001b[0m\n\u001b[0;32m    120\u001b[0m \u001b[1;33m\u001b[0m\u001b[0m\n\u001b[0;32m    121\u001b[0m         \u001b[1;32mif\u001b[0m \u001b[1;34m'code'\u001b[0m \u001b[1;32min\u001b[0m \u001b[0mresponse\u001b[0m\u001b[1;33m.\u001b[0m\u001b[0mtext\u001b[0m\u001b[1;33m:\u001b[0m\u001b[1;33m\u001b[0m\u001b[1;33m\u001b[0m\u001b[0m\n\u001b[1;32m--> 122\u001b[1;33m             \u001b[1;32mraise\u001b[0m \u001b[0mException\u001b[0m\u001b[1;33m(\u001b[0m\u001b[0mresponse\u001b[0m\u001b[1;33m.\u001b[0m\u001b[0mtext\u001b[0m\u001b[1;33m)\u001b[0m\u001b[1;33m\u001b[0m\u001b[1;33m\u001b[0m\u001b[0m\n\u001b[0m\u001b[0;32m    123\u001b[0m \u001b[1;33m\u001b[0m\u001b[0m\n\u001b[0;32m    124\u001b[0m         \u001b[1;32mreturn\u001b[0m \u001b[0mresponse\u001b[0m\u001b[1;33m.\u001b[0m\u001b[0mjson\u001b[0m\u001b[1;33m(\u001b[0m\u001b[1;33m)\u001b[0m\u001b[1;33m\u001b[0m\u001b[1;33m\u001b[0m\u001b[0m\n",
      "\u001b[1;31mException\u001b[0m: {\"code\":-2015,\"msg\":\"Invalid API-key, IP, or permissions for action.\"}"
     ]
    }
   ],
   "source": [
    "qty = 20\n",
    "#pair = base_usd\n",
    "#pair = 'SRMBUSD'\n",
    "pair = 'BUSDUSDT'\n",
    "#pair = 'BUSDBRL'\n",
    "\n",
    "bot1.createOrder(\n",
    "      symbol        = pair, \n",
    "      #quantity      = rounds( qty * 0.9995, sett[ pair ]['lot_precision'] ),\n",
    "      quoteOrderQty = rounds( qty * 0.9995, sett[ pair ]['lot_precision'] ),\n",
    "      recvWindow    = 5000, side = 'BUY', type  = 'MARKET'\n",
    "      )"
   ]
  },
  {
   "cell_type": "markdown",
   "metadata": {
    "id": "URmir7TbF4eQ",
    "tags": []
   },
   "source": [
    "# START"
   ]
  },
  {
   "cell_type": "code",
   "execution_count": null,
   "metadata": {},
   "outputs": [],
   "source": []
  },
  {
   "cell_type": "code",
   "execution_count": null,
   "metadata": {},
   "outputs": [],
   "source": []
  }
 ],
 "metadata": {
  "colab": {
   "collapsed_sections": [
    "7jaWbQ1Cm6XZ",
    "8ary4IMwFyEc",
    "ArwAZbKeHVY5"
   ],
   "provenance": [
    {
     "file_id": "1dd5qV6joByRS6sAmBXyxSsoQkYSpRcrK",
     "timestamp": 1668774520705
    },
    {
     "file_id": "12LlhdNBdyNByDuvT5p443cdkrxWatwID",
     "timestamp": 1668419834999
    }
   ],
   "toc_visible": true
  },
  "kernelspec": {
   "display_name": "Python 3 (ipykernel)",
   "language": "python",
   "name": "python3"
  },
  "language_info": {
   "codemirror_mode": {
    "name": "ipython",
    "version": 3
   },
   "file_extension": ".py",
   "mimetype": "text/x-python",
   "name": "python",
   "nbconvert_exporter": "python",
   "pygments_lexer": "ipython3",
   "version": "3.9.13"
  },
  "vscode": {
   "interpreter": {
    "hash": "a077222d77dfe082b8f1dd562ad70e458ac2ab76993a0b248ab0476e32e9e8dd"
   }
  },
  "widgets": {
   "application/vnd.jupyter.widget-state+json": {
    "state": {},
    "version_major": 2,
    "version_minor": 0
   }
  }
 },
 "nbformat": 4,
 "nbformat_minor": 4
}
